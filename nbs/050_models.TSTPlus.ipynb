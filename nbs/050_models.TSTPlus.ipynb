{
 "cells": [
  {
   "cell_type": "code",
   "execution_count": null,
   "metadata": {},
   "outputs": [],
   "source": [
    "#|default_exp models.TSTPlus"
   ]
  },
  {
   "cell_type": "markdown",
   "metadata": {},
   "source": [
    "# TSTPlus"
   ]
  },
  {
   "cell_type": "markdown",
   "metadata": {},
   "source": [
    "This is an unofficial PyTorch implementation by Ignacio Oguiza of  - timeseriesAI@gmail.com based on:\n",
    "\n",
    "* George Zerveas et al. A Transformer-based Framework for Multivariate Time Series Representation Learning, in Proceedings of the 27th ACM SIGKDD Conference on Knowledge Discovery and Data Mining (KDD '21), August 14--18, 2021. ArXiV version: https://arxiv.org/abs/2010.02803\n",
    "* Official implementation: https://github.com/gzerveas/mvts_transformer\n",
    "\n",
    "```bash\n",
    "@inproceedings{10.1145/3447548.3467401,\n",
    "author = {Zerveas, George and Jayaraman, Srideepika and Patel, Dhaval and Bhamidipaty, Anuradha and Eickhoff, Carsten},\n",
    "title = {A Transformer-Based Framework for Multivariate Time Series Representation Learning},\n",
    "year = {2021},\n",
    "isbn = {9781450383325},\n",
    "publisher = {Association for Computing Machinery},\n",
    "address = {New York, NY, USA},\n",
    "url = {https://doi.org/10.1145/3447548.3467401},\n",
    "doi = {10.1145/3447548.3467401},\n",
    "booktitle = {Proceedings of the 27th ACM SIGKDD Conference on Knowledge Discovery &amp; Data Mining},\n",
    "pages = {2114–2124},\n",
    "numpages = {11},\n",
    "keywords = {regression, framework, multivariate time series, classification, transformer, deep learning, self-supervised learning, unsupervised learning, imputation},\n",
    "location = {Virtual Event, Singapore},\n",
    "series = {KDD '21}\n",
    "}\n",
    "```\n",
    "\n",
    "* Vaswani, A., Shazeer, N., Parmar, N., Uszkoreit, J., Jones, L., Gomez, A. N., ... & Polosukhin, I. (2017). [Attention is all you need. In Advances in neural information processing systems (pp. 5998-6008).](https://papers.nips.cc/paper/7181-attention-is-all-you-need.pdf)\n",
    "\n",
    "* He, R., Ravula, A., Kanagal, B., & Ainslie, J. (2020). Realformer: Transformer Likes Informed Attention. arXiv preprint arXiv:2012.11747.\n",
    "\n",
    "This implementation is adapted to work with the rest of the `tsai` library, and contain some hyperparameters that are not available in the original implementation. I included them for experimenting."
   ]
  },
  {
   "cell_type": "markdown",
   "metadata": {},
   "source": [
    "## Imports"
   ]
  },
  {
   "cell_type": "code",
   "execution_count": null,
   "metadata": {},
   "outputs": [],
   "source": [
    "#|export\n",
    "from typing import Callable\n",
    "from tsai.imports import *\n",
    "from tsai.utils import *\n",
    "from tsai.models.layers import *\n",
    "from tsai.models.utils import *\n",
    "from tsai.models.positional_encoders import *\n",
    "from tsai.data.core import *"
   ]
  },
  {
   "cell_type": "markdown",
   "metadata": {},
   "source": [
    "## TST"
   ]
  },
  {
   "cell_type": "code",
   "execution_count": null,
   "metadata": {},
   "outputs": [],
   "source": [
    "#|exporti    \n",
    "class _TSTEncoderLayer(Module):\n",
    "    def __init__(self, q_len, d_model, n_heads, d_k=None, d_v=None, d_ff=256, store_attn=False,\n",
    "                 norm='BatchNorm', attn_dropout=0, dropout=0., bias=True, activation=\"gelu\", res_attention=False, pre_norm=False):\n",
    "\n",
    "        assert not d_model%n_heads, f\"d_model ({d_model}) must be divisible by n_heads ({n_heads})\"\n",
    "        d_k = ifnone(d_k, d_model // n_heads)\n",
    "        d_v = ifnone(d_v, d_model // n_heads)\n",
    "\n",
    "        # Multi-Head attention\n",
    "        self.res_attention = res_attention\n",
    "        self.self_attn = MultiheadAttention(d_model, n_heads, d_k, d_v, attn_dropout=attn_dropout, proj_dropout=dropout, res_attention=res_attention)\n",
    "\n",
    "        # Add & Norm\n",
    "        self.dropout_attn = nn.Dropout(dropout)\n",
    "        if \"batch\" in norm.lower():\n",
    "            self.norm_attn = nn.Sequential(Transpose(1,2), nn.BatchNorm1d(d_model), Transpose(1,2))\n",
    "        else: \n",
    "            self.norm_attn = nn.LayerNorm(d_model)\n",
    "\n",
    "        # Position-wise Feed-Forward\n",
    "        self.ff = nn.Sequential(nn.Linear(d_model, d_ff, bias=bias), \n",
    "                                get_act_fn(activation), \n",
    "                                nn.Dropout(dropout), \n",
    "                                nn.Linear(d_ff, d_model, bias=bias))\n",
    "\n",
    "        # Add & Norm\n",
    "        self.dropout_ffn = nn.Dropout(dropout)\n",
    "        if \"batch\" in norm.lower():\n",
    "            self.norm_ffn = nn.Sequential(Transpose(1,2), nn.BatchNorm1d(d_model), Transpose(1,2))\n",
    "        else: \n",
    "            self.norm_ffn = nn.LayerNorm(d_model)\n",
    "        \n",
    "        self.pre_norm = pre_norm\n",
    "        self.store_attn = store_attn\n",
    "\n",
    "    def forward(self, src:Tensor, prev:Optional[Tensor]=None, key_padding_mask:Optional[Tensor]=None, attn_mask:Optional[Tensor]=None) -> Tensor:\n",
    "\n",
    "        # Multi-Head attention sublayer\n",
    "        if self.pre_norm:\n",
    "            src = self.norm_attn(src)\n",
    "        ## Multi-Head attention\n",
    "        if self.res_attention:\n",
    "            src2, attn, scores = self.self_attn(src, src, src, prev, key_padding_mask=key_padding_mask, attn_mask=attn_mask)\n",
    "        else:\n",
    "            src2, attn = self.self_attn(src, src, src, key_padding_mask=key_padding_mask, attn_mask=attn_mask)\n",
    "        if self.store_attn: \n",
    "            self.attn = attn\n",
    "        ## Add & Norm\n",
    "        src = src + self.dropout_attn(src2) # Add: residual connection with residual dropout\n",
    "        if not self.pre_norm:\n",
    "            src = self.norm_attn(src)\n",
    "\n",
    "        # Feed-forward sublayer\n",
    "        if self.pre_norm:\n",
    "            src = self.norm_ffn(src)\n",
    "        ## Position-wise Feed-Forward\n",
    "        src2 = self.ff(src)\n",
    "        ## Add & Norm\n",
    "        src = src + self.dropout_ffn(src2) # Add: residual connection with residual dropout\n",
    "        if not self.pre_norm:\n",
    "            src = self.norm_ffn(src)\n",
    "\n",
    "        if self.res_attention:\n",
    "            return src, scores\n",
    "        else:\n",
    "            return src"
   ]
  },
  {
   "cell_type": "code",
   "execution_count": null,
   "metadata": {},
   "outputs": [
    {
     "name": "stdout",
     "output_type": "stream",
     "text": [
      "attn_mask torch.Size([50, 50]) key_padding_mask torch.Size([16, 50])\n"
     ]
    },
    {
     "data": {
      "text/plain": [
       "torch.Size([16, 50, 128])"
      ]
     },
     "execution_count": null,
     "metadata": {},
     "output_type": "execute_result"
    }
   ],
   "source": [
    "t = torch.rand(16, 50, 128)\n",
    "attn_mask = torch.triu(torch.ones(50, 50)) # shape: q_len x q_len\n",
    "key_padding_mask = torch.zeros(16, 50)\n",
    "key_padding_mask[[1, 3, 6, 15], -10:] = 1\n",
    "key_padding_mask = key_padding_mask.bool()\n",
    "print('attn_mask', attn_mask.shape, 'key_padding_mask', key_padding_mask.shape)\n",
    "encoder = _TSTEncoderLayer(q_len=50, d_model=128, n_heads=8, d_k=None, d_v=None, d_ff=512, attn_dropout=0., dropout=0.1, store_attn=True, activation='gelu')\n",
    "output = encoder(t, key_padding_mask=key_padding_mask, attn_mask=attn_mask)\n",
    "output.shape"
   ]
  },
  {
   "cell_type": "code",
   "execution_count": null,
   "metadata": {},
   "outputs": [
    {
     "data": {
      "image/png": "[encoded data removed]",
      "text/plain": [
       "<Figure size 432x360 with 2 Axes>"
      ]
     },
     "metadata": {
      "needs_background": "light"
     },
     "output_type": "display_data"
    }
   ],
   "source": [
    "cmap='viridis'\n",
    "figsize=(6,5)\n",
    "plt.figure(figsize=figsize)\n",
    "plt.pcolormesh(encoder.attn[0][0].detach().cpu().numpy(), cmap=cmap)\n",
    "plt.title('Self-attention map')\n",
    "plt.colorbar()\n",
    "plt.show()"
   ]
  },
  {
   "cell_type": "code",
   "execution_count": null,
   "metadata": {},
   "outputs": [],
   "source": [
    "#|exporti\n",
    "class _TSTEncoder(Module):\n",
    "    def __init__(self, q_len, d_model, n_heads, d_k=None, d_v=None, d_ff=None, norm='BatchNorm', attn_dropout=0., dropout=0., activation='gelu', \n",
    "                 res_attention=False, n_layers=1, pre_norm=False, store_attn=False):\n",
    "        self.layers = nn.ModuleList([_TSTEncoderLayer(q_len, d_model, n_heads=n_heads, d_k=d_k, d_v=d_v, d_ff=d_ff, norm=norm, \n",
    "                                                      attn_dropout=attn_dropout, dropout=dropout, \n",
    "                                                      activation=activation, res_attention=res_attention, \n",
    "                                                      pre_norm=pre_norm, store_attn=store_attn) for i in range(n_layers)])\n",
    "        self.res_attention = res_attention\n",
    "\n",
    "    def forward(self, src:Tensor, key_padding_mask:Optional[Tensor]=None, attn_mask:Optional[Tensor]=None):\n",
    "        output = src\n",
    "        scores = None\n",
    "        if self.res_attention:\n",
    "            for mod in self.layers: output, scores = mod(output, prev=scores, key_padding_mask=key_padding_mask, attn_mask=attn_mask)\n",
    "            return output\n",
    "        else:\n",
    "            for mod in self.layers: output = mod(output, key_padding_mask=key_padding_mask, attn_mask=attn_mask)\n",
    "            return output"
   ]
  },
  {
   "cell_type": "code",
   "execution_count": null,
   "metadata": {},
   "outputs": [],
   "source": [
    "#|exporti\n",
    "class _TSTBackbone(Module):\n",
    "    def __init__(self, c_in, seq_len, max_seq_len=512,\n",
    "                 n_layers=3, d_model=128, n_heads=16, d_k=None, d_v=None,\n",
    "                 d_ff=256, norm='BatchNorm', attn_dropout=0., dropout=0., act=\"gelu\", store_attn=False,\n",
    "                 key_padding_mask='auto', padding_var=None, attn_mask=None, res_attention=True, pre_norm=False,\n",
    "                 pe='zeros', learn_pe=True, verbose=False, **kwargs):\n",
    "\n",
    "        # Input encoding\n",
    "        q_len = seq_len\n",
    "        self.new_q_len = False\n",
    "        if max_seq_len is not None and seq_len > max_seq_len: # Control temporal resolution\n",
    "            self.new_q_len = True\n",
    "            q_len = max_seq_len\n",
    "            tr_factor = math.ceil(seq_len / q_len)\n",
    "            total_padding = (tr_factor * q_len - seq_len)\n",
    "            padding = (total_padding // 2, total_padding - total_padding // 2)\n",
    "            self.W_P = nn.Sequential(Pad1d(padding), Conv1d(c_in, d_model, kernel_size=tr_factor, padding=0, stride=tr_factor))\n",
    "            pv(f'temporal resolution modified: {seq_len} --> {q_len} time steps: kernel_size={tr_factor}, stride={tr_factor}, padding={padding}.\\n', verbose)\n",
    "        elif kwargs:\n",
    "            self.new_q_len = True\n",
    "            t = torch.rand(1, 1, seq_len)\n",
    "            q_len = Conv1d(1, 1, **kwargs)(t).shape[-1]\n",
    "            self.W_P = Conv1d(c_in, d_model, **kwargs) # Eq 2\n",
    "            pv(f'Conv1d with kwargs={kwargs} applied to input to create input encodings\\n', verbose)\n",
    "        else:\n",
    "            self.W_P = nn.Linear(c_in, d_model)        # Eq 1: projection of feature vectors onto a d-dim vector space\n",
    "        self.seq_len = q_len\n",
    "\n",
    "        # Positional encoding\n",
    "        self.W_pos = self._positional_encoding(pe, learn_pe, q_len, d_model)\n",
    "\n",
    "        # Residual dropout\n",
    "        self.dropout = nn.Dropout(dropout)\n",
    "\n",
    "        # Encoder\n",
    "        self.encoder = _TSTEncoder(q_len, d_model, n_heads, d_k=d_k, d_v=d_v, d_ff=d_ff, norm=norm, attn_dropout=attn_dropout, dropout=dropout, \n",
    "                                   pre_norm=pre_norm, activation=act, res_attention=res_attention, n_layers=n_layers, store_attn=store_attn)\n",
    "        self.transpose = Transpose(-1, -2, contiguous=True)\n",
    "        self.key_padding_mask, self.padding_var, self.attn_mask = key_padding_mask, padding_var, attn_mask\n",
    "\n",
    "    def forward(self, inp) -> Tensor:  \n",
    "        r\"\"\"Pass the input through the TST backbone.\n",
    "        Args:\n",
    "            inp: input (optionally with padding mask. 1s (meaning padded) in padding mask will be ignored while 0s (non-padded) will be unchanged.)\n",
    "        Shape:\n",
    "            There are 3 options: \n",
    "            1. inp: Tensor containing just time series data [bs x nvars x q_len] \n",
    "            2. inp: Tensor containing time series data plus a padding feature in the last channel [bs x (nvars + 1) x q_len]\n",
    "            3. inp: tuple containing a tensor with time series data plus a padding mask per batch ([bs x nvars x q_len] , [bs x q_len] )\n",
    "        \"\"\"\n",
    "\n",
    "        # x and padding mask\n",
    "        if isinstance(inp, tuple): x, key_padding_mask = inp\n",
    "        elif self.key_padding_mask == 'auto': x, key_padding_mask = self._key_padding_mask(inp) # automatically identify padding mask\n",
    "        elif self.key_padding_mask == -1: x, key_padding_mask = inp[:, :-1], inp[:, -1]         # padding mask is the last channel\n",
    "        else: x, key_padding_mask = inp, None\n",
    "\n",
    "        # Input encoding\n",
    "        if self.new_q_len: u = self.W_P(x).transpose(2,1) # Eq 2        # u: [bs x d_model x q_len] transposed to [bs x q_len x d_model]\n",
    "        else: u = self.W_P(x.transpose(2,1))              # Eq 1        # u: [bs x q_len x nvars] converted to [bs x q_len x d_model]\n",
    "\n",
    "        # Positional encoding\n",
    "        u = self.dropout(u + self.W_pos)\n",
    "\n",
    "        # Encoder\n",
    "        z = self.encoder(u, key_padding_mask=key_padding_mask, attn_mask=self.attn_mask)    # z: [bs x q_len x d_model]\n",
    "        z = self.transpose(z)                                                               # z: [bs x d_model x q_len]\n",
    "        if key_padding_mask is not None: \n",
    "            z = z * torch.logical_not(key_padding_mask.unsqueeze(1))  # zero-out padding embeddings\n",
    "        return z\n",
    "\n",
    "    def _positional_encoding(self, pe, learn_pe, q_len, d_model):\n",
    "        # Positional encoding\n",
    "        if pe == None:\n",
    "            W_pos = torch.empty((q_len, d_model)) # pe = None and learn_pe = False can be used to measure impact of pe\n",
    "            nn.init.uniform_(W_pos, -0.02, 0.02)\n",
    "            learn_pe = False\n",
    "        elif pe == 'zero': \n",
    "            W_pos = torch.empty((q_len, 1))\n",
    "            nn.init.uniform_(W_pos, -0.02, 0.02)\n",
    "        elif pe == 'zeros': \n",
    "            W_pos = torch.empty((q_len, d_model))\n",
    "            nn.init.uniform_(W_pos, -0.02, 0.02)\n",
    "        elif pe == 'normal' or pe == 'gauss':\n",
    "            W_pos = torch.zeros((q_len, 1))\n",
    "            torch.nn.init.normal_(W_pos, mean=0.0, std=0.1)\n",
    "        elif pe == 'uniform':\n",
    "            W_pos = torch.zeros((q_len, 1))\n",
    "            nn.init.uniform_(W_pos, a=0.0, b=0.1)\n",
    "        elif pe == 'lin1d': W_pos = Coord1dPosEncoding(q_len, exponential=False, normalize=True)\n",
    "        elif pe == 'exp1d': W_pos = Coord1dPosEncoding(q_len, exponential=True, normalize=True)\n",
    "        elif pe == 'lin2d': W_pos = Coord2dPosEncoding(q_len, d_model, exponential=False, normalize=True)\n",
    "        elif pe == 'exp2d': W_pos = Coord2dPosEncoding(q_len, d_model, exponential=True, normalize=True)\n",
    "        elif pe == 'sincos': W_pos = PositionalEncoding(q_len, d_model, normalize=True)\n",
    "        else: raise ValueError(f\"{pe} is not a valid pe (positional encoder. Available types: 'gauss'=='normal', \\\n",
    "            'zeros', 'zero', uniform', 'lin1d', 'exp1d', 'lin2d', 'exp2d', 'sincos', None.)\")\n",
    "        return nn.Parameter(W_pos, requires_grad=learn_pe)\n",
    "\n",
    "    def _key_padding_mask(self, x):\n",
    "        if self.padding_var is not None:\n",
    "            mask = TSMaskTensor(x[:, self.padding_var] == 1)            # key_padding_mask: [bs x q_len]\n",
    "            return x, mask\n",
    "        else:\n",
    "            mask = torch.isnan(x)\n",
    "            x[mask] = 0\n",
    "            if mask.any():\n",
    "                mask = TSMaskTensor((mask.float().mean(1)==1).bool())   # key_padding_mask: [bs x q_len]\n",
    "                return x, mask\n",
    "            else:\n",
    "                return x, None"
   ]
  },
  {
   "cell_type": "code",
   "execution_count": null,
   "metadata": {},
   "outputs": [],
   "source": [
    "#|export\n",
    "class TSTPlus(nn.Sequential):\n",
    "    \"\"\"TST (Time Series Transformer) is a Transformer that takes continuous time series as inputs\"\"\"\n",
    "    def __init__(self, c_in:int, c_out:int, seq_len:int, max_seq_len:Optional[int]=512,\n",
    "                 n_layers:int=3, d_model:int=128, n_heads:int=16, d_k:Optional[int]=None, d_v:Optional[int]=None,\n",
    "                 d_ff:int=256, norm:str='BatchNorm', attn_dropout:float=0., dropout:float=0., act:str=\"gelu\", key_padding_mask:bool='auto', \n",
    "                 padding_var:Optional[int]=None, attn_mask:Optional[Tensor]=None, res_attention:bool=True, pre_norm:bool=False, store_attn:bool=False,\n",
    "                 pe:str='zeros', learn_pe:bool=True, flatten:bool=True, fc_dropout:float=0.,\n",
    "                 concat_pool:bool=False, bn:bool=False, custom_head:Optional[Callable]=None,\n",
    "                 y_range:Optional[tuple]=None, verbose:bool=False, **kwargs):\n",
    "        \"\"\"\n",
    "        Args:\n",
    "            c_in: the number of features (aka variables, dimensions, channels) in the time series dataset.\n",
    "            c_out: the number of target classes.\n",
    "            seq_len: number of time steps in the time series.\n",
    "            max_seq_len: useful to control the temporal resolution in long time series to avoid memory issues. Default=512.\n",
    "            d_model: total dimension of the model (number of features created by the model). Default: 128 (range(64-512))\n",
    "            n_heads:  parallel attention heads. Default:16 (range(8-16)).\n",
    "            d_k: size of the learned linear projection of queries and keys in the MHA. Usual values: 16-512. Default: None -> (d_model/n_heads) = 32.\n",
    "            d_v: size of the learned linear projection of values in the MHA. Usual values: 16-512. Default: None -> (d_model/n_heads) = 32.\n",
    "            d_ff: the dimension of the feedforward network model. Default: 512 (range(256-512))\n",
    "            norm: flag to indicate whether BatchNorm (default) or LayerNorm is used in the encoder layers.\n",
    "            attn_dropout: dropout applied to the attention scores\n",
    "            dropout: amount of dropout applied to all linear layers except q,k&v projections in the encoder.\n",
    "            act: the activation function of intermediate layer, relu or gelu.\n",
    "            key_padding_mask:   a boolean padding mask will be applied to attention if 'auto' a mask to those steps in a sample where all features are nan.\n",
    "                                Other options include: True -->tuple (x, key_padding_mask), -1 --> key_padding_mask is the last channel, False: no mask.\n",
    "            padding_var: (optional) an int indicating the variable that contains the padded steps (0: non-padded, 1: padded). \n",
    "            attn_mask: a boolean mask will be applied to attention if a tensor of shape [min(seq_len, max_seq_len) x min(seq_len, max_seq_len)] if provided.\n",
    "            res_attention: if True Residual MultiheadAttention is applied.\n",
    "            pre_norm: if True normalization will be applied as the first step in the sublayers. Defaults to False\n",
    "            store_attn: can be used to visualize attention weights. Default: False.\n",
    "            n_layers: number of layers (or blocks) in the encoder. Default: 3 (range(1-4))\n",
    "            pe: type of positional encoder.\n",
    "                Available types (for experimenting): None, 'exp1d', 'lin1d', 'exp2d', 'lin2d', 'sincos', 'gauss' or 'normal',\n",
    "                'uniform', 'zero', 'zeros' (default, as in the paper).\n",
    "            learn_pe: learned positional encoder (True, default) or fixed positional encoder.\n",
    "            flatten: this will flatten the encoder output to be able to apply an mlp type of head (default=False)\n",
    "            fc_dropout: dropout applied to the final fully connected layer.\n",
    "            concat_pool: indicates if global adaptive concat pooling will be used instead of global adaptive pooling.\n",
    "            bn: indicates if batchnorm will be applied to the head.\n",
    "            custom_head: custom head that will be applied to the network. It must contain all kwargs (pass a partial function)\n",
    "            y_range: range of possible y values (used in regression tasks).\n",
    "            kwargs: nn.Conv1d kwargs. If not {}, a nn.Conv1d with those kwargs will be applied to original time series.\n",
    "        Input shape:\n",
    "            x: bs (batch size) x nvars (aka features, variables, dimensions, channels) x seq_len (aka time steps)\n",
    "            attn_mask: q_len x q_len\n",
    "            As mentioned in the paper, the input must be standardized by_var based on the entire training set.\n",
    "        \"\"\"\n",
    "        # Backbone\n",
    "        backbone = _TSTBackbone(c_in, seq_len=seq_len, max_seq_len=max_seq_len,\n",
    "                                n_layers=n_layers, d_model=d_model, n_heads=n_heads, d_k=d_k, d_v=d_v, d_ff=d_ff, \n",
    "                                attn_dropout=attn_dropout, dropout=dropout, act=act, key_padding_mask=key_padding_mask, padding_var=padding_var,\n",
    "                                attn_mask=attn_mask, res_attention=res_attention, pre_norm=pre_norm, store_attn=store_attn, \n",
    "                                pe=pe, learn_pe=learn_pe, verbose=verbose, **kwargs)\n",
    "\n",
    "        # Head\n",
    "        self.head_nf = d_model\n",
    "        self.c_out = c_out\n",
    "        self.seq_len = backbone.seq_len\n",
    "        if custom_head: head = custom_head(self.head_nf, c_out, self.seq_len) # custom head passed as a partial func with all its kwargs\n",
    "        else: head = self.create_head(self.head_nf, c_out, self.seq_len, act=act, flatten=flatten, concat_pool=concat_pool,\n",
    "                                           fc_dropout=fc_dropout, bn=bn, y_range=y_range)\n",
    "        super().__init__(OrderedDict([('backbone', backbone), ('head', head)]))\n",
    "\n",
    "\n",
    "    def create_head(self, nf, c_out, seq_len, flatten=True, concat_pool=False, act=\"gelu\", fc_dropout=0., bn=False, y_range=None):\n",
    "        layers = [get_act_fn(act)]\n",
    "        if flatten:\n",
    "            nf *= seq_len\n",
    "            layers += [Flatten()]\n",
    "        else:\n",
    "            if concat_pool: nf *= 2\n",
    "            layers = [GACP1d(1) if concat_pool else GAP1d(1)]\n",
    "        layers += [LinBnDrop(nf, c_out, bn=bn, p=fc_dropout)]\n",
    "        if y_range: layers += [SigmoidRange(*y_range)]\n",
    "        return nn.Sequential(*layers)\n",
    "\n",
    "\n",
    "    def show_pe(self, cmap='viridis', figsize=None):\n",
    "        plt.figure(figsize=figsize)\n",
    "        plt.pcolormesh(self.backbone.W_pos.detach().cpu().T, cmap=cmap)\n",
    "        plt.title('Positional Encoding')\n",
    "        plt.colorbar()\n",
    "        plt.show()\n",
    "        plt.figure(figsize=figsize)\n",
    "        plt.title('Positional Encoding - value along time axis')\n",
    "        plt.plot(F.relu(self.backbone.W_pos.data).mean(1).cpu())\n",
    "        plt.plot(-F.relu(-self.backbone.W_pos.data).mean(1).cpu())\n",
    "        plt.show()"
   ]
  },
  {
   "cell_type": "code",
   "execution_count": null,
   "metadata": {},
   "outputs": [],
   "source": [
    "from tsai.models.utils import build_ts_model"
   ]
  },
  {
   "cell_type": "code",
   "execution_count": null,
   "metadata": {},
   "outputs": [
    {
     "name": "stdout",
     "output_type": "stream",
     "text": [
      "model parameters: 470018\n"
     ]
    }
   ],
   "source": [
    "bs = 8\n",
    "c_in = 9  # aka channels, features, variables, dimensions\n",
    "c_out = 2\n",
    "seq_len = 1_500\n",
    "\n",
    "xb = torch.randn(bs, c_in, seq_len).to(device)\n",
    "\n",
    "# standardize by channel by_var based on the training set\n",
    "xb = (xb - xb.mean((0, 2), keepdim=True)) / xb.std((0, 2), keepdim=True)\n",
    "\n",
    "# Settings\n",
    "max_seq_len = 256\n",
    "d_model = 128\n",
    "n_heads = 16\n",
    "d_k = d_v = None  # if None --> d_model // n_heads\n",
    "d_ff = 256\n",
    "norm = \"BatchNorm\"\n",
    "dropout = 0.1\n",
    "activation = \"gelu\"\n",
    "n_layers = 3\n",
    "fc_dropout = 0.1\n",
    "pe = None\n",
    "learn_pe = True\n",
    "kwargs = {}\n",
    "\n",
    "model = TSTPlus(c_in, c_out, seq_len, max_seq_len=max_seq_len, d_model=d_model, n_heads=n_heads,\n",
    "                d_k=d_k, d_v=d_v, d_ff=d_ff, norm=norm, dropout=dropout, activation=activation, n_layers=n_layers,\n",
    "                fc_dropout=fc_dropout, pe=pe, learn_pe=learn_pe, **kwargs).to(device)\n",
    "test_eq(model(xb).shape, [bs, c_out])\n",
    "test_eq(model[0], model.backbone)\n",
    "test_eq(model[1], model.head)\n",
    "model2 = build_ts_model(TSTPlus, c_in, c_out, seq_len, max_seq_len=max_seq_len, d_model=d_model, n_heads=n_heads,\n",
    "                           d_k=d_k, d_v=d_v, d_ff=d_ff, norm=norm, dropout=dropout, activation=activation, n_layers=n_layers,\n",
    "                           fc_dropout=fc_dropout, pe=pe, learn_pe=learn_pe, **kwargs).to(device)\n",
    "test_eq(model2(xb).shape, [bs, c_out])\n",
    "test_eq(model2[0], model2.backbone)\n",
    "test_eq(model2[1], model2.head)\n",
    "print(f'model parameters: {count_parameters(model)}')"
   ]
  },
  {
   "cell_type": "code",
   "execution_count": null,
   "metadata": {},
   "outputs": [
    {
     "data": {
      "text/plain": [
       "tensor([False, False, False, False, False, False, False, False, False, False,\n",
       "        False, False, False, False, False, False, False, False, False, False,\n",
       "        False, False, False, False, False, False, False, False, False, False,\n",
       "        False, False, False, False, False, False, False, False, False, False,\n",
       "        False, False, False, False, False, False, False, False, False, False,\n",
       "        False, False, False, False, False, False, False, False, False, False,\n",
       "        False, False, False, False, False, False, False, False, False, False,\n",
       "        False, False, False, False, False, False, False, False, False, False,\n",
       "        False, False, False, False, False, False, False, False, False, False,\n",
       "        False, False, False, False, False, False, False, False, False, False,\n",
       "        False, False, False, False, False, False, False, False, False, False,\n",
       "        False, False, False, False, False, False, False, False, False, False,\n",
       "        False, False, False, False, False, False, False, False, False, False,\n",
       "        False, False,  True,  True,  True,  True,  True,  True,  True,  True,\n",
       "         True,  True,  True,  True,  True,  True,  True,  True,  True,  True,\n",
       "         True,  True,  True,  True,  True,  True,  True,  True,  True,  True,\n",
       "         True,  True,  True,  True,  True,  True,  True,  True,  True,  True,\n",
       "         True,  True,  True,  True,  True,  True,  True,  True,  True,  True,\n",
       "         True,  True,  True,  True,  True,  True,  True,  True,  True,  True,\n",
       "         True,  True,  True,  True,  True,  True,  True,  True,  True,  True,\n",
       "         True,  True,  True,  True,  True,  True,  True,  True,  True,  True,\n",
       "         True,  True,  True,  True,  True,  True,  True,  True,  True,  True,\n",
       "         True,  True,  True,  True,  True,  True,  True,  True,  True,  True,\n",
       "         True,  True,  True,  True,  True,  True,  True,  True,  True,  True,\n",
       "         True,  True,  True,  True,  True,  True,  True,  True,  True,  True,\n",
       "         True,  True,  True,  True,  True,  True])"
      ]
     },
     "execution_count": null,
     "metadata": {},
     "output_type": "execute_result"
    }
   ],
   "source": [
    "key_padding_mask = torch.sort(torch.randint(0, 2, (bs, max_seq_len))).values.bool().to(device)\n",
    "key_padding_mask[0]"
   ]
  },
  {
   "cell_type": "code",
   "execution_count": null,
   "metadata": {},
   "outputs": [
    {
     "data": {
      "text/plain": [
       "torch.Size([8, 2])"
      ]
     },
     "execution_count": null,
     "metadata": {},
     "output_type": "execute_result"
    }
   ],
   "source": [
    "model2.key_padding_mask = True\n",
    "model2.to(device)((xb, key_padding_mask)).shape"
   ]
  },
  {
   "cell_type": "code",
   "execution_count": null,
   "metadata": {},
   "outputs": [
    {
     "data": {
      "text/plain": [
       "Sequential(\n",
       "  (0): GELU()\n",
       "  (1): Flatten(full=False)\n",
       "  (2): LinBnDrop(\n",
       "    (0): Dropout(p=0.1, inplace=False)\n",
       "    (1): Linear(in_features=32768, out_features=2, bias=True)\n",
       "  )\n",
       ")"
      ]
     },
     "execution_count": null,
     "metadata": {},
     "output_type": "execute_result"
    }
   ],
   "source": [
    "model.head"
   ]
  },
  {
   "cell_type": "code",
   "execution_count": null,
   "metadata": {},
   "outputs": [],
   "source": [
    "model = TSTPlus(c_in, c_out, seq_len, pre_norm=True)\n",
    "test_eq(model.to(xb.device)(xb).shape, [bs, c_out])"
   ]
  },
  {
   "cell_type": "code",
   "execution_count": null,
   "metadata": {},
   "outputs": [
    {
     "name": "stdout",
     "output_type": "stream",
     "text": [
      "model parameters: 605698\n"
     ]
    }
   ],
   "source": [
    "bs = 8\n",
    "c_in = 9  # aka channels, features, variables, dimensions\n",
    "c_out = 2\n",
    "seq_len = 5000\n",
    "\n",
    "xb = torch.randn(bs, c_in, seq_len)\n",
    "\n",
    "# standardize by channel by_var based on the training set\n",
    "xb = (xb - xb.mean((0, 2), keepdim=True)) / xb.std((0, 2), keepdim=True)\n",
    "\n",
    "model = TSTPlus(c_in, c_out, seq_len, res_attention=True)\n",
    "test_eq(model.to(xb.device)(xb).shape, [bs, c_out])\n",
    "print(f'model parameters: {count_parameters(model)}')"
   ]
  },
  {
   "cell_type": "code",
   "execution_count": null,
   "metadata": {},
   "outputs": [
    {
     "name": "stdout",
     "output_type": "stream",
     "text": [
      "model parameters: 421122\n"
     ]
    }
   ],
   "source": [
    "custom_head = partial(create_pool_head, concat_pool=True)\n",
    "model = TSTPlus(c_in, c_out, seq_len, max_seq_len=max_seq_len, d_model=d_model, n_heads=n_heads,\n",
    "            d_k=d_k, d_v=d_v, d_ff=d_ff, dropout=dropout, activation=activation, n_layers=n_layers,\n",
    "            fc_dropout=fc_dropout, pe=pe, learn_pe=learn_pe, flatten=False, custom_head=custom_head, **kwargs)\n",
    "test_eq(model.to(xb.device)(xb).shape, [bs, c_out])\n",
    "print(f'model parameters: {count_parameters(model)}')"
   ]
  },
  {
   "cell_type": "code",
   "execution_count": null,
   "metadata": {},
   "outputs": [
    {
     "name": "stdout",
     "output_type": "stream",
     "text": [
      "model parameters: 554240\n"
     ]
    }
   ],
   "source": [
    "custom_head = partial(create_pool_plus_head, concat_pool=True)\n",
    "model = TSTPlus(c_in, c_out, seq_len, max_seq_len=max_seq_len, d_model=d_model, n_heads=n_heads,\n",
    "            d_k=d_k, d_v=d_v, d_ff=d_ff, dropout=dropout, activation=activation, n_layers=n_layers,\n",
    "            fc_dropout=fc_dropout, pe=pe, learn_pe=learn_pe, flatten=False, custom_head=custom_head, **kwargs)\n",
    "test_eq(model.to(xb.device)(xb).shape, [bs, c_out])\n",
    "print(f'model parameters: {count_parameters(model)}')"
   ]
  },
  {
   "cell_type": "code",
   "execution_count": null,
   "metadata": {},
   "outputs": [
    {
     "name": "stdout",
     "output_type": "stream",
     "text": [
      "model parameters: 421762\n"
     ]
    },
    {
     "data": {
      "text/plain": [
       "Sequential(\n",
       "  (0): GELU()\n",
       "  (1): Flatten(full=False)\n",
       "  (2): LinBnDrop(\n",
       "    (0): Dropout(p=0.1, inplace=False)\n",
       "    (1): Linear(in_features=7680, out_features=2, bias=True)\n",
       "  )\n",
       ")"
      ]
     },
     "execution_count": null,
     "metadata": {},
     "output_type": "execute_result"
    }
   ],
   "source": [
    "bs = 8\n",
    "c_in = 9  # aka channels, features, variables, dimensions\n",
    "c_out = 2\n",
    "seq_len = 60\n",
    "\n",
    "xb = torch.randn(bs, c_in, seq_len)\n",
    "\n",
    "# standardize by channel by_var based on the training set\n",
    "xb = (xb - xb.mean((0, 2), keepdim=True)) / xb.std((0, 2), keepdim=True)\n",
    "\n",
    "# Settings\n",
    "max_seq_len = 120\n",
    "d_model = 128\n",
    "n_heads = 16\n",
    "d_k = d_v = None # if None --> d_model // n_heads\n",
    "d_ff = 256\n",
    "dropout = 0.1\n",
    "act = \"gelu\"\n",
    "n_layers = 3\n",
    "fc_dropout = 0.1\n",
    "pe='zeros'\n",
    "learn_pe=True\n",
    "kwargs = {}\n",
    "# kwargs = dict(kernel_size=5, padding=2)\n",
    "\n",
    "model = TSTPlus(c_in, c_out, seq_len, max_seq_len=max_seq_len, d_model=d_model, n_heads=n_heads,\n",
    "            d_k=d_k, d_v=d_v, d_ff=d_ff, dropout=dropout, act=act, n_layers=n_layers,\n",
    "            fc_dropout=fc_dropout, pe=pe, learn_pe=learn_pe, **kwargs)\n",
    "test_eq(model.to(xb.device)(xb).shape, [bs, c_out])\n",
    "print(f'model parameters: {count_parameters(model)}')\n",
    "body, head = model[0], model[1]\n",
    "test_eq(body.to(xb.device)(xb).ndim, 3)\n",
    "test_eq(head.to(xb.device)(body.to(xb.device)(xb)).ndim, 2)\n",
    "head"
   ]
  },
  {
   "cell_type": "code",
   "execution_count": null,
   "metadata": {},
   "outputs": [
    {
     "data": {
      "image/png": "[encoded data removed]",
      "text/plain": [
       "<Figure size 432x288 with 2 Axes>"
      ]
     },
     "metadata": {
      "needs_background": "light"
     },
     "output_type": "display_data"
    },
    {
     "data": {
      "image/png": "[encoded data removed]",
      "text/plain": [
       "<Figure size 432x288 with 1 Axes>"
      ]
     },
     "metadata": {
      "needs_background": "light"
     },
     "output_type": "display_data"
    }
   ],
   "source": [
    "model.show_pe()"
   ]
  },
  {
   "cell_type": "code",
   "execution_count": null,
   "metadata": {},
   "outputs": [
    {
     "name": "stdout",
     "output_type": "stream",
     "text": [
      "tensor(32)\n"
     ]
    },
    {
     "data": {
      "text/plain": [
       "torch.Size([4, 10])"
      ]
     },
     "execution_count": null,
     "metadata": {},
     "output_type": "execute_result"
    }
   ],
   "source": [
    "model = TSTPlus(3, 2, 10)\n",
    "xb = torch.randn(4, 3, 10)\n",
    "yb = torch.randint(0, 2, (4,))\n",
    "test_eq(model.backbone._key_padding_mask(xb)[1], None)\n",
    "random_idxs = random_choice(len(xb), 2, False)\n",
    "xb[random_idxs, :, -5:] = np.nan\n",
    "xb[random_idxs, 0, 1] = np.nan\n",
    "test_eq(model.backbone._key_padding_mask(xb.clone())[1].data, (torch.isnan(xb).float().mean(1)==1).bool())\n",
    "test_eq(model.backbone._key_padding_mask(xb.clone())[1].data.shape, (4,10))\n",
    "print(torch.isnan(xb).sum())\n",
    "pred = model.to(xb.device)(xb.clone())\n",
    "loss = CrossEntropyLossFlat()(pred, yb)\n",
    "loss.backward()\n",
    "model.to(xb.device).backbone._key_padding_mask(xb)[1].data.shape"
   ]
  },
  {
   "cell_type": "code",
   "execution_count": null,
   "metadata": {},
   "outputs": [],
   "source": [
    "bs = 4\n",
    "c_in = 3\n",
    "seq_len = 10\n",
    "c_out = 2\n",
    "xb = torch.randn(bs, c_in, seq_len)\n",
    "xb[:, -1] = torch.randint(0, 2, (bs, seq_len)).sort()[0]\n",
    "model = TSTPlus(c_in, c_out, seq_len).to(xb.device)\n",
    "test_eq(model.backbone._key_padding_mask(xb)[1], None)\n",
    "model = TSTPlus(c_in, c_out, seq_len, padding_var=-1).to(xb.device)\n",
    "test_eq(model.backbone._key_padding_mask(xb)[1], (xb[:, -1]==1))\n",
    "model = TSTPlus(c_in, c_out, seq_len, padding_var=2).to(xb.device)\n",
    "test_eq(model.backbone._key_padding_mask(xb)[1], (xb[:, -1]==1))\n",
    "test_eq(model(xb).shape, (bs, c_out))"
   ]
  },
  {
   "cell_type": "code",
   "execution_count": null,
   "metadata": {},
   "outputs": [],
   "source": [
    "bs = 4\n",
    "c_in = 3\n",
    "seq_len = 10\n",
    "c_out = 2\n",
    "xb = torch.randn(bs, c_in, seq_len)\n",
    "model = TSTPlus(c_in, c_out, seq_len, act='smelu')"
   ]
  },
  {
   "cell_type": "code",
   "execution_count": null,
   "metadata": {},
   "outputs": [],
   "source": [
    "#|export\n",
    "@delegates(TSTPlus.__init__)\n",
    "class MultiTSTPlus(nn.Sequential):\n",
    "    _arch = TSTPlus\n",
    "    def __init__(self, feat_list, c_out, seq_len, max_seq_len:Optional[int]=512, custom_head=None, **kwargs):\n",
    "        r\"\"\"\n",
    "        MultiTST is a class that allows you to create a model with multiple branches of TST.\n",
    "        \n",
    "        Args:\n",
    "            * feat_list: list with number of features that will be passed to each body, or list of list with feature indices.\n",
    "        \"\"\"\n",
    "        self.feat_list = [feat_list] if isinstance(feat_list, int) else feat_list \n",
    "        self.device = ifnone(device, default_device())\n",
    "        \n",
    "        # Backbone\n",
    "        branches = nn.ModuleList()\n",
    "        self.head_nf = 0\n",
    "        for feat in self.feat_list:\n",
    "            if is_listy(feat): feat = len(feat)\n",
    "            m = build_ts_model(self._arch, c_in=feat, c_out=c_out, seq_len=seq_len, max_seq_len=max_seq_len, **kwargs)\n",
    "            with torch.no_grad(): \n",
    "                self.head_nf += m[0](torch.randn(1, feat, ifnone(seq_len, 10)).to(self.device)).shape[1]\n",
    "            branches.append(m.backbone)\n",
    "        backbone = _Splitter(self.feat_list, branches)\n",
    "        \n",
    "        # Head\n",
    "        self.c_out = c_out\n",
    "        q_len = min(seq_len, max_seq_len)\n",
    "        self.seq_len = q_len \n",
    "        if custom_head is None:\n",
    "            head = self._arch.create_head(self, self.head_nf, c_out, q_len)\n",
    "        else: \n",
    "            head = custom_head(self.head_nf, c_out, q_len)\n",
    "    \n",
    "        layers = OrderedDict([('backbone', nn.Sequential(backbone)), ('head', nn.Sequential(head))])\n",
    "        super().__init__(layers)\n",
    "        self.to(self.device)"
   ]
  },
  {
   "cell_type": "code",
   "execution_count": null,
   "metadata": {},
   "outputs": [],
   "source": [
    "#|exporti\n",
    "class _Splitter(Module):\n",
    "    def __init__(self, feat_list, branches):\n",
    "        self.feat_list, self.branches = feat_list, branches\n",
    "    def forward(self, x):\n",
    "        if is_listy(self.feat_list[0]): \n",
    "            x = [x[:, feat] for feat in self.feat_list]\n",
    "        else: \n",
    "            x = torch.split(x, self.feat_list, dim=1)\n",
    "        _out = []\n",
    "        for xi, branch in zip(x, self.branches): _out.append(branch(xi))\n",
    "        output = torch.cat(_out, dim=1)\n",
    "        return output"
   ]
  },
  {
   "cell_type": "code",
   "execution_count": null,
   "metadata": {},
   "outputs": [],
   "source": [
    "bs = 8\n",
    "c_in = 7  # aka channels, features, variables, dimensions\n",
    "c_out = 2\n",
    "seq_len = 10\n",
    "xb2 = torch.randn(bs, c_in, seq_len)\n",
    "model1 = MultiTSTPlus([2, 5], c_out, seq_len)\n",
    "model2 = MultiTSTPlus(7, c_out, seq_len)\n",
    "test_eq(model1.to(xb2.device)(xb2).shape, (bs, c_out))\n",
    "test_eq(model1.to(xb2.device)(xb2).shape, model2.to(xb2.device)(xb2).shape)\n",
    "test_eq(count_parameters(model1) > count_parameters(model2), True)"
   ]
  },
  {
   "cell_type": "code",
   "execution_count": null,
   "metadata": {},
   "outputs": [],
   "source": [
    "bs = 8\n",
    "c_in = 7  # aka channels, features, variables, dimensions\n",
    "c_out = 2\n",
    "seq_len = 10\n",
    "xb2 = torch.randn(bs, c_in, seq_len)\n",
    "model1 = MultiTSTPlus([2, 5], c_out, seq_len, )\n",
    "model2 = MultiTSTPlus([[0,2,5], [0,1,3,4,6]], c_out, seq_len)\n",
    "test_eq(model1.to(xb2.device)(xb2).shape, (bs, c_out))\n",
    "test_eq(model1.to(xb2.device)(xb2).shape, model2.to(xb2.device)(xb2).shape)"
   ]
  },
  {
   "cell_type": "code",
   "execution_count": null,
   "metadata": {},
   "outputs": [
    {
     "data": {
      "text/plain": [
       "Sequential(\n",
       "  (0): Sequential(\n",
       "    (0): GELU()\n",
       "    (1): Flatten(full=False)\n",
       "    (2): LinBnDrop(\n",
       "      (0): Linear(in_features=2560, out_features=2, bias=True)\n",
       "    )\n",
       "  )\n",
       ")"
      ]
     },
     "execution_count": null,
     "metadata": {},
     "output_type": "execute_result"
    }
   ],
   "source": [
    "model1 = MultiTSTPlus([2, 5], c_out, seq_len, y_range=(0.5, 5.5))\n",
    "body, head = split_model(model1)\n",
    "test_eq(body.to(xb2.device)(xb2).ndim, 3)\n",
    "test_eq(head.to(xb2.device)(body.to(xb2.device)(xb2)).ndim, 2)\n",
    "head"
   ]
  },
  {
   "cell_type": "code",
   "execution_count": null,
   "metadata": {},
   "outputs": [],
   "source": [
    "model = MultiTSTPlus([2, 5], c_out, seq_len, pre_norm=True)"
   ]
  },
  {
   "cell_type": "code",
   "execution_count": null,
   "metadata": {},
   "outputs": [
    {
     "name": "stdout",
     "output_type": "stream",
     "text": [
      "torch.Size([8, 2])\n"
     ]
    },
    {
     "data": {
      "text/plain": [
       "Sequential(\n",
       "  (0): AdaptiveAvgPool1d(output_size=1)\n",
       "  (1): Flatten(full=False)\n",
       "  (2): BatchNorm1d(128, eps=1e-05, momentum=0.1, affine=True, track_running_stats=True)\n",
       "  (3): Linear(in_features=128, out_features=512, bias=False)\n",
       "  (4): ReLU(inplace=True)\n",
       "  (5): BatchNorm1d(512, eps=1e-05, momentum=0.1, affine=True, track_running_stats=True)\n",
       "  (6): Linear(in_features=512, out_features=2, bias=False)\n",
       ")"
      ]
     },
     "execution_count": null,
     "metadata": {},
     "output_type": "execute_result"
    }
   ],
   "source": [
    "bs = 8\n",
    "n_vars = 3\n",
    "seq_len = 12\n",
    "c_out = 2\n",
    "xb = torch.rand(bs, n_vars, seq_len)\n",
    "net = MultiTSTPlus(n_vars, c_out, seq_len)\n",
    "change_model_head(net, create_pool_plus_head, concat_pool=False)\n",
    "print(net.to(xb.device)(xb).shape)\n",
    "net.head"
   ]
  },
  {
   "cell_type": "code",
   "execution_count": null,
   "metadata": {},
   "outputs": [
    {
     "name": "stdout",
     "output_type": "stream",
     "text": [
      "torch.Size([8, 5, 2, 10])\n"
     ]
    },
    {
     "data": {
      "text/plain": [
       "Sequential(\n",
       "  (0): create_conv_lin_nd_head(\n",
       "    (0): Conv1d(128, 10, kernel_size=(1,), stride=(1,))\n",
       "    (1): Linear(in_features=12, out_features=10, bias=True)\n",
       "    (2): Transpose(-1, -2)\n",
       "    (3): Reshape(bs, 5, 2, 10)\n",
       "  )\n",
       ")"
      ]
     },
     "execution_count": null,
     "metadata": {},
     "output_type": "execute_result"
    }
   ],
   "source": [
    "bs = 8\n",
    "n_vars = 3\n",
    "seq_len = 12\n",
    "c_out = 10\n",
    "xb = torch.rand(bs, n_vars, seq_len)\n",
    "new_head = partial(conv_lin_nd_head, d=(5 ,2))\n",
    "net = MultiTSTPlus(n_vars, c_out, seq_len, custom_head=new_head)\n",
    "print(net.to(xb.device)(xb).shape)\n",
    "net.head"
   ]
  },
  {
   "cell_type": "code",
   "execution_count": null,
   "metadata": {},
   "outputs": [
    {
     "data": {
      "application/javascript": "IPython.notebook.save_checkpoint();",
      "text/plain": [
       "<IPython.core.display.Javascript object>"
      ]
     },
     "metadata": {},
     "output_type": "display_data"
    },
    {
     "name": "stdout",
     "output_type": "stream",
     "text": [
      "/Users/nacho/notebooks/tsai/nbs/108c_models.TSTPlus.ipynb saved at 2022-11-09 13:04:07\n",
      "Correct notebook to script conversion! 😃\n",
      "Wednesday 09/11/22 13:04:10 CET\n"
     ]
    },
    {
     "data": {
      "text/html": [
       "\n",
       "                <audio  controls=\"controls\" autoplay=\"autoplay\">\n",
       "                    <source src=\"data:audio/wav;base64,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\" type=\"audio/wav\" />\n",
       "                    Your browser does not support the audio element.\n",
       "                </audio>\n",
       "              "
      ],
      "text/plain": [
       "<IPython.lib.display.Audio object>"
      ]
     },
     "metadata": {},
     "output_type": "display_data"
    }
   ],
   "source": [
    "#|eval: false\n",
    "#|hide\n",
    "from tsai.export import get_nb_name; nb_name = get_nb_name(locals())\n",
    "from tsai.imports import create_scripts; create_scripts(nb_name)"
   ]
  },
  {
   "cell_type": "code",
   "execution_count": null,
   "metadata": {},
   "outputs": [],
   "source": []
  }
 ],
 "metadata": {
  "kernelspec": {
   "display_name": "Python 3.7.11 ('py37torch110')",
   "language": "python",
   "name": "python3"
  }
 },
 "nbformat": 4,
 "nbformat_minor": 4
}
