{
 "cells": [
  {
   "cell_type": "code",
   "execution_count": null,
   "metadata": {},
   "outputs": [],
   "source": [
    "#|default_exp callback.PredictionDynamics"
   ]
  },
  {
   "cell_type": "markdown",
   "metadata": {},
   "source": [
    "# PredictionDynamics"
   ]
  },
  {
   "cell_type": "markdown",
   "metadata": {},
   "source": [
    ">Callback used to visualize model predictions during training.\n",
    "\n",
    "This is an implementation created by Ignacio Oguiza (timeseriesAI@gmail.com) based on a [blog post](http://localhost:8888/?token=83bca9180c34e1c8991886445942499ee8c1e003bc0491d0) by Andrej Karpathy I read some time ago that I really liked. One of the things he mentioned was this: \n",
    "\n",
    ">\"**visualize prediction dynamics**. I like to visualize model predictions on a fixed test batch during the course of training. The “dynamics” of how these predictions move will give you incredibly good intuition for how the training progresses. Many times it is possible to feel the network “struggle” to fit your data if it wiggles too much in some way, revealing instabilities. Very low or very high learning rates are also easily noticeable in the amount of jitter.\" A. Karpathy\n"
   ]
  },
  {
   "cell_type": "code",
   "execution_count": null,
   "metadata": {},
   "outputs": [],
   "source": [
    "#|export\n",
    "from fastai.callback.all import *\n",
    "from tsai.imports import *"
   ]
  },
  {
   "cell_type": "code",
   "execution_count": null,
   "metadata": {},
   "outputs": [],
   "source": [
    "#|export\n",
    "class PredictionDynamics(Callback):\n",
    "    order, run_valid = 65, True\n",
    "\n",
    "    def __init__(self, show_perc=1., figsize=(10,6), alpha=.3, size=30, color='lime', cmap='gist_rainbow', normalize=False, \n",
    "                 sensitivity=None, specificity=None):\n",
    "\n",
    "        \"\"\"\n",
    "        Args:\n",
    "            show_perc:   percent of samples from the valid set that will be displayed. Default: 1 (all).\n",
    "                         You can reduce it if the number is too high and the chart is too busy.\n",
    "            alpha:       level of transparency. Default:.3. 1 means no transparency.\n",
    "            figsize:     size of the chart. You may want to expand it if too many classes.\n",
    "            size:        size of each sample in the chart. Default:30. You may need to decrease it a bit if too many classes/ samples.\n",
    "            color:       color used in regression plots.\n",
    "            cmap:        color map used in classification plots.\n",
    "            normalize:   flag to normalize histograms displayed in binary classification.\n",
    "            sensitivity: (aka recall or True Positive Rate) if you pass a float between 0. and 1. the sensitivity threshold will be plotted in the chart.\n",
    "                         Only used in binary classification.\n",
    "            specificity: (or True Negative Rate) if you pass a float between 0. and 1. it will be plotted in the chart. Only used in binary classification.\n",
    "\n",
    "        The red line in classification tasks indicate the average probability of true class.\n",
    "        \"\"\"\n",
    "\n",
    "        store_attr()\n",
    "\n",
    "    def before_fit(self):\n",
    "        self.run = not hasattr(self.learn, 'lr_finder') and not hasattr(self, \"gather_preds\")\n",
    "        if not self.run:\n",
    "            return\n",
    "        self.cat = True if (hasattr(self.dls, \"c\") and self.dls.c > 1) else False\n",
    "        if self.cat:\n",
    "            self.binary = self.dls.c == 2\n",
    "        if self.show_perc != 1:\n",
    "            valid_size = len(self.dls.valid.dataset)\n",
    "            self.show_idxs = random_choice(valid_size, int(round(self.show_perc * valid_size)), replace=False)\n",
    "\n",
    "        # Prepare ground truth container\n",
    "        self.y_true = []\n",
    "\n",
    "    def before_epoch(self):\n",
    "        # Prepare empty pred container in every epoch\n",
    "        self.y_pred = []\n",
    "\n",
    "    def after_pred(self):\n",
    "        if self.training:\n",
    "            return\n",
    "\n",
    "        # Get y_true in epoch 0\n",
    "        if self.epoch == 0:\n",
    "            self.y_true.extend(self.y.cpu().flatten().numpy())\n",
    "\n",
    "        # Gather y_pred for every batch\n",
    "        if self.cat:\n",
    "            if self.binary:\n",
    "                y_pred = F.softmax(self.pred, -1)[:, 1].reshape(-1, 1).cpu()\n",
    "            else:\n",
    "                y_pred = torch.gather(F.softmax(self.pred, -1), -1, self.y.reshape(-1, 1).long()).cpu()\n",
    "        else:\n",
    "            y_pred = self.pred.cpu()\n",
    "        self.y_pred.extend(y_pred.flatten().numpy())\n",
    "\n",
    "    def after_epoch(self):\n",
    "        # Ground truth\n",
    "        if self.epoch == 0:\n",
    "            self.y_true = np.array(self.y_true)\n",
    "            if self.show_perc != 1:\n",
    "                self.y_true = self.y_true[self.show_idxs]\n",
    "            self.y_bounds = (np.min(self.y_true), np.max(self.y_true))\n",
    "            self.min_x_bounds, self.max_x_bounds = np.min(self.y_true), np.max(self.y_true)\n",
    "\n",
    "        self.y_pred = np.array(self.y_pred)\n",
    "        if self.show_perc != 1:\n",
    "            self.y_pred = self.y_pred[self.show_idxs]\n",
    "        if self.cat:\n",
    "            neg_thr = None\n",
    "            pos_thr = None\n",
    "            if self.specificity is not None: \n",
    "                inp0 = self.y_pred[self.y_true == 0]\n",
    "                neg_thr = np.sort(inp0)[-int(len(inp0) * (1 - self.specificity))]\n",
    "            if self.sensitivity is not None: \n",
    "                inp1 = self.y_pred[self.y_true == 1]\n",
    "                pos_thr = np.sort(inp1)[-int(len(inp1) * self.sensitivity)]\n",
    "            self.update_graph(self.y_pred, self.y_true, neg_thr=neg_thr, pos_thr=pos_thr)\n",
    "        else:\n",
    "            # Adjust bounds during validation\n",
    "            self.min_x_bounds = min(self.min_x_bounds, np.min(self.y_pred))\n",
    "            self.max_x_bounds = max(self.max_x_bounds, np.max(self.y_pred))\n",
    "            x_bounds = (self.min_x_bounds, self.max_x_bounds)\n",
    "            self.update_graph(self.y_pred, self.y_true, x_bounds=x_bounds, y_bounds=self.y_bounds)\n",
    "\n",
    "    def update_graph(self, y_pred, y_true, x_bounds=None, y_bounds=None, neg_thr=None, pos_thr=None):\n",
    "        if not hasattr(self, 'graph_fig'):\n",
    "            self.df_out = display(\"\", display_id=True)\n",
    "            if self.cat:\n",
    "                self._cl_names = self.dls.vocab\n",
    "                self._classes = L(self.dls.vocab.o2i.values())\n",
    "                self._n_classes = len(self._classes)\n",
    "                if self.binary:\n",
    "                    self.bins = np.linspace(0, 1, 101)\n",
    "                else:\n",
    "                    _cm = plt.get_cmap(self.cmap)\n",
    "                    self._color = [_cm(1. * c/self._n_classes) for c in range(1, self._n_classes + 1)][::-1]\n",
    "                    self._h_vals = np.linspace(-.5, self._n_classes - .5, self._n_classes + 1)[::-1]\n",
    "                    self._rand = []\n",
    "                    for i, c in enumerate(self._classes):\n",
    "                        self._rand.append(.5 * (np.random.rand(np.sum(y_true == c)) - .5))\n",
    "            self.graph_fig, self.graph_ax = plt.subplots(1, figsize=self.figsize)\n",
    "            self.graph_out = display(\"\", display_id=True)\n",
    "        self.graph_ax.clear()\n",
    "        if self.cat:\n",
    "            if self.binary:\n",
    "                self.graph_ax.hist(y_pred[y_true == 0], bins=self.bins, density=self.normalize,  color='red', label=self._cl_names[0],\n",
    "                                          edgecolor='black', alpha=self.alpha)\n",
    "                self.graph_ax.hist(y_pred[y_true == 1], bins=self.bins, density=self.normalize,  color='blue', label=self._cl_names[1],\n",
    "                                          edgecolor='black', alpha=self.alpha)\n",
    "                self.graph_ax.axvline(.5, lw=1, ls='--', color='gray')\n",
    "                if neg_thr is not None: \n",
    "                    self.graph_ax.axvline(neg_thr, lw=2, ls='--', color='red', label=f'specificity={(self.specificity):.3f}')\n",
    "                if pos_thr is not None: \n",
    "                    self.graph_ax.axvline(pos_thr, lw=2, ls='--', color='blue', label=f'sensitivity={self.sensitivity:.3f}')\n",
    "                self.graph_ax.set_xlabel(f'probability of class {self._cl_names[1]}', fontsize=12)\n",
    "                self.graph_ax.legend()\n",
    "            else:\n",
    "                for i, c in enumerate(self._classes):\n",
    "                    self.graph_ax.scatter(y_pred[y_true == c], y_true[y_true == c] + self._rand[i],  color=self._color[i],\n",
    "                                          edgecolor='black', alpha=self.alpha, lw=.5, s=self.size)\n",
    "                    self.graph_ax.vlines(np.mean(y_pred[y_true == c]), i - .5, i + .5, color='r')\n",
    "                self.graph_ax.vlines(.5, min(self._h_vals), max(self._h_vals), lw=.5)\n",
    "                self.graph_ax.hlines(self._h_vals, 0, 1, lw=.5)\n",
    "                self.graph_ax.set_ylim(min(self._h_vals), max(self._h_vals))\n",
    "                self.graph_ax.set_yticks(self._classes)\n",
    "                self.graph_ax.set_yticklabels(self._cl_names)\n",
    "                self.graph_ax.set_ylabel('true class', fontsize=12)\n",
    "                self.graph_ax.set_xlabel('probability of true class', fontsize=12)\n",
    "            self.graph_ax.set_xlim(0, 1)\n",
    "            self.graph_ax.set_xticks(np.linspace(0, 1, 11))\n",
    "            self.graph_ax.grid(axis='x', color='gainsboro', lw=.2)\n",
    "        else:\n",
    "            self.graph_ax.scatter(y_pred, y_true, color=self.color, edgecolor='black', alpha=self.alpha, lw=.5, s=self.size)\n",
    "            self.graph_ax.set_xlim(*x_bounds)\n",
    "            self.graph_ax.set_ylim(*y_bounds)\n",
    "            self.graph_ax.plot([*x_bounds], [*x_bounds], color='gainsboro')\n",
    "            self.graph_ax.set_xlabel('y_pred', fontsize=12)\n",
    "            self.graph_ax.set_ylabel('y_true', fontsize=12)\n",
    "            self.graph_ax.grid(color='gainsboro', lw=.2)\n",
    "        self.graph_ax.set_title(f'Prediction Dynamics \\nepoch: {self.epoch + 1}/{self.n_epoch}')\n",
    "        self.df_out.update(pd.DataFrame(np.stack(self.learn.recorder.values)[-1].reshape(1,-1),\n",
    "                                        columns=self.learn.recorder.metric_names[1:-1], index=[self.epoch]))\n",
    "        self.graph_out.update(self.graph_ax.figure)\n",
    "        if self.epoch == self.n_epoch - 1: \n",
    "            plt.close(self.graph_ax.figure)"
   ]
  },
  {
   "cell_type": "code",
   "execution_count": null,
   "metadata": {},
   "outputs": [],
   "source": [
    "from tsai.basics import *\n",
    "from tsai.models.InceptionTime import *"
   ]
  },
  {
   "cell_type": "code",
   "execution_count": null,
   "metadata": {},
   "outputs": [
    {
     "name": "stdout",
     "output_type": "stream",
     "text": [
      "X      - shape: [360 samples x 24 features x 51 timesteps]  type: memmap  dtype:float32  isnan: 0\n",
      "y      - shape: (360,)  type: memmap  dtype:<U3  n_classes: 6 (60 samples per class) ['1.0', '2.0', '3.0', '4.0', '5.0', '6.0']  isnan: False\n",
      "splits - n_splits: 2 shape: [180, 180]  overlap: False\n"
     ]
    }
   ],
   "source": [
    "dsid = 'NATOPS'\n",
    "X, y, splits = get_UCR_data(dsid, split_data=False)\n",
    "check_data(X, y, splits, False)"
   ]
  },
  {
   "cell_type": "code",
   "execution_count": null,
   "metadata": {},
   "outputs": [
    {
     "data": {
      "text/html": [
       "<table border=\"1\" class=\"dataframe\">\n",
       "  <thead>\n",
       "    <tr style=\"text-align: left;\">\n",
       "      <th>epoch</th>\n",
       "      <th>train_loss</th>\n",
       "      <th>valid_loss</th>\n",
       "      <th>accuracy</th>\n",
       "      <th>time</th>\n",
       "    </tr>\n",
       "  </thead>\n",
       "  <tbody>\n",
       "    <tr>\n",
       "      <td>0</td>\n",
       "      <td>1.885462</td>\n",
       "      <td>1.773872</td>\n",
       "      <td>0.238889</td>\n",
       "      <td>00:05</td>\n",
       "    </tr>\n",
       "    <tr>\n",
       "      <td>1</td>\n",
       "      <td>1.425667</td>\n",
       "      <td>1.640418</td>\n",
       "      <td>0.377778</td>\n",
       "      <td>00:05</td>\n",
       "    </tr>\n",
       "  </tbody>\n",
       "</table>"
      ],
      "text/plain": [
       "<IPython.core.display.HTML object>"
      ]
     },
     "metadata": {},
     "output_type": "display_data"
    },
    {
     "data": {
      "text/html": [
       "<div>\n",
       "<style scoped>\n",
       "    .dataframe tbody tr th:only-of-type {\n",
       "        vertical-align: middle;\n",
       "    }\n",
       "\n",
       "    .dataframe tbody tr th {\n",
       "        vertical-align: top;\n",
       "    }\n",
       "\n",
       "    .dataframe thead th {\n",
       "        text-align: right;\n",
       "    }\n",
       "</style>\n",
       "<table border=\"1\" class=\"dataframe\">\n",
       "  <thead>\n",
       "    <tr style=\"text-align: right;\">\n",
       "      <th></th>\n",
       "      <th>train_loss</th>\n",
       "      <th>valid_loss</th>\n",
       "      <th>accuracy</th>\n",
       "    </tr>\n",
       "  </thead>\n",
       "  <tbody>\n",
       "    <tr>\n",
       "      <th>1</th>\n",
       "      <td>1.425667</td>\n",
       "      <td>1.640418</td>\n",
       "      <td>0.377778</td>\n",
       "    </tr>\n",
       "  </tbody>\n",
       "</table>\n",
       "</div>"
      ],
      "text/plain": [
       "   train_loss  valid_loss  accuracy\n",
       "1    1.425667    1.640418  0.377778"
      ]
     },
     "metadata": {},
     "output_type": "display_data"
    },
    {
     "data": {
      "image/png": "[encoded data removed]",
      "text/plain": [
       "<Figure size 720x432 with 1 Axes>"
      ]
     },
     "metadata": {},
     "output_type": "display_data"
    }
   ],
   "source": [
    "tfms  = [None, [Categorize()]]\n",
    "batch_tfms = [TSStandardize(by_var=True)]\n",
    "dls = get_ts_dls(X, y, splits=splits, tfms=tfms, batch_tfms=batch_tfms)\n",
    "learn = ts_learner(dls, InceptionTime, metrics=accuracy, cbs=PredictionDynamics()) \n",
    "learn.fit_one_cycle(2, 3e-3)"
   ]
  },
  {
   "cell_type": "code",
   "execution_count": null,
   "metadata": {},
   "outputs": [
    {
     "data": {
      "application/javascript": "IPython.notebook.save_checkpoint();",
      "text/plain": [
       "<IPython.core.display.Javascript object>"
      ]
     },
     "metadata": {},
     "output_type": "display_data"
    },
    {
     "name": "stdout",
     "output_type": "stream",
     "text": [
      "/Users/nacho/notebooks/tsai/nbs/064_callback.PredictionDynamics.ipynb saved at 2022-11-09 12:59:36\n",
      "Correct notebook to script conversion! 😃\n",
      "Wednesday 09/11/22 12:59:39 CET\n"
     ]
    },
    {
     "data": {
      "text/html": [
       "\n",
       "                <audio  controls=\"controls\" autoplay=\"autoplay\">\n",
       "                    <source src=\"data:audio/wav;base64,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\" type=\"audio/wav\" />\n",
       "                    Your browser does not support the audio element.\n",
       "                </audio>\n",
       "              "
      ],
      "text/plain": [
       "<IPython.lib.display.Audio object>"
      ]
     },
     "metadata": {},
     "output_type": "display_data"
    }
   ],
   "source": [
    "#|eval: false\n",
    "#|hide\n",
    "from tsai.export import get_nb_name; nb_name = get_nb_name(locals())\n",
    "from tsai.imports import create_scripts; create_scripts(nb_name)"
   ]
  },
  {
   "cell_type": "code",
   "execution_count": null,
   "metadata": {},
   "outputs": [],
   "source": []
  }
 ],
 "metadata": {
  "kernelspec": {
   "display_name": "Python 3.7.11 ('py37torch110')",
   "language": "python",
   "name": "python3"
  }
 },
 "nbformat": 4,
 "nbformat_minor": 4
}
