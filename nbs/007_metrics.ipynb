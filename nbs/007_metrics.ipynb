{
 "cells": [
  {
   "cell_type": "code",
   "execution_count": null,
   "metadata": {},
   "outputs": [],
   "source": [
    "# default_exp metrics"
   ]
  },
  {
   "cell_type": "markdown",
   "metadata": {},
   "source": [
    "# Metrics\n",
    "\n",
    "> This contains metrics that are missing in fastai."
   ]
  },
  {
   "cell_type": "code",
   "execution_count": null,
   "metadata": {},
   "outputs": [],
   "source": [
    "#export\n",
    "from tsai.imports import *\n",
    "from fastai.metrics import * "
   ]
  },
  {
   "cell_type": "code",
   "execution_count": null,
   "metadata": {},
   "outputs": [],
   "source": [
    "#export\n",
    "def MatthewsCorrCoef(axis=-1, sample_weight=None):\n",
    "    \"Matthews correlation coefficient for binary classification problems\"\n",
    "    return skm_to_fastai(skm.matthews_corrcoef, axis=axis, sample_weight=sample_weight)"
   ]
  },
  {
   "cell_type": "code",
   "execution_count": null,
   "metadata": {},
   "outputs": [
    {
     "data": {
      "application/javascript": [
       "IPython.notebook.save_checkpoint()"
      ],
      "text/plain": [
       "<IPython.core.display.Javascript object>"
      ]
     },
     "metadata": {},
     "output_type": "display_data"
    },
    {
     "name": "stdout",
     "output_type": "stream",
     "text": [
      "\n",
      "Current notebook saved.\n",
      "\n",
      "Converted 000_utils.ipynb.\n",
      "Converted 001_data.external.ipynb.\n",
      "Converted 002_data.core.ipynb.\n",
      "Converted 003_data.transforms.ipynb.\n",
      "Converted 005_data.tabular.ipynb.\n",
      "Converted 006_data.validation.ipynb.\n",
      "Converted 007_metrics.ipynb.\n",
      "Converted 008_learner.ipynb.\n",
      "Converted 010_rocket_functions.ipynb.\n",
      "Converted 100_layers.ipynb.\n",
      "Converted 100b_models_utils.ipynb.\n",
      "Converted 101_ResNet.ipynb.\n",
      "Converted 102_InceptionTime.ipynb.\n",
      "Converted index.ipynb.\n",
      "\n",
      "Checking folder: /Users/nacho/Documents/Machine_Learning/Jupyter_Notebooks/timeseries/tsai\n",
      "Correct conversion! 😃\n",
      "Total elapsed time 8 s\n",
      "22-04-2020 07:23:47\n"
     ]
    },
    {
     "data": {
      "text/html": [
       "\n",
       "                <audio  controls=\"controls\" autoplay=\"autoplay\">\n",
       "                    <source src=\"data:audio/wav;base64,UklGRvQHAABXQVZFZm10IBAAAAABAAEAECcAACBOAAACABAAZGF0YdAHAAAAAP5/EhAGghzg+Hk2L/WLOMJIbGJLL502qMpX0WKetLiTyD0LdMrQCIbkH/p97u8CgAAA/n8SEAaCHOD4eTYv9Ys4wkhsYksvnTaoylfRYp60uJPIPQt0ytAIhuQf+n3u7wKAAAD+fxIQBoIc4Ph5Ni/1izjCSGxiSy+dNqjKV9FinrS4k8g9C3TK0AiG5B/6fe7vAoAAAP5/EhAGghzg+Hk2L/WLOMJIbGJLL502qMpX0WKetLiTyD0LdMrQCIbkH/p97u8CgAAA/n8SEAaCHOD4eTYv9Ys4wkhsYksvnTaoylfRYp60uJPIPQt0ytAIhuQf+n3u7wKAAAD+fxIQBoIc4Ph5Ni/1izjCSGxiSy+dNqjKV9FinrS4k8g9C3TK0AiG5B/6fe7vAoAAAP5/EhAGghzg+Hk2L/WLOMJIbGJLL502qMpX0WKetLiTyD0LdMrQCIbkH/p97u8CgAAA/n8SEAaCHOD4eTYv9Ys4wkhsYksvnTaoylfRYp60uJPIPQt0ytAIhuQf+n3u7wKAAAD+fxIQBoIc4Ph5Ni/1izjCSGxiSy+dNqjKV9FinrS4k8g9C3TK0AiG5B/6fe7vAoAAAP5/EhAGghzg+Hk2L/WLOMJIbGJLL502qMpX0WKetLiTyD0LdMrQCIbkH/p97u8CgAAA/n8SEAaCHOD4eTYv9Ys4wkhsYksvnTaoylfRYp60uJPIPQt0ytAIhuQf+n3u7wKAAAD+fxIQBoIc4Ph5Ni/1izjCSGxiSy+dNqjKV9FinrS4k8g9C3TK0AiG5B/6fe7vAoAAAP5/EhAGghzg+Hk2L/WLOMJIbGJLL502qMpX0WKetLiTyD0LdMrQCIbkH/p97u8CgAAA/n8SEAaCHOD4eTYv9Ys4wkhsYksvnTaoylfRYp60uJPIPQt0ytAIhuQf+n3u7wKAAAD+fxIQBoIc4Ph5Ni/1izjCSGxiSy+dNqjKV9FinrS4k8g9C3TK0AiG5B/6fe7vAoAAAP5/EhAGghzg+Hk2L/WLOMJIbGJLL502qMpX0WKetLiTyD0LdMrQCIbkH/p97u8CgAAA/n8SEAaCHOD4eTYv9Ys4wkhsYksvnTaoylfRYp60uJPIPQt0ytAIhuQf+n3u7wKAAAD+fxIQBoIc4Ph5Ni/1izjCSGxiSy+dNqjKV9FinrS4k8g9C3TK0AiG5B/6fe7vAoAAAP5/EhAGghzg+Hk2L/WLOMJIbGJLL502qMpX0WKetLiTyD0LdMrQCIbkH/p97u8CgAAA/n8SEAaCHOD4eTYv9Ys4wkhsYksvnTaoylfRYp60uJPIPQt0ytAIhuQf+n3u7wKAAAD+fxIQBoIc4Ph5Ni/1izjCSGxiSy+dNqjKV9FinrS4k8g9C3TK0AiG5B/6fe7vAoAAAP5/EhAGghzg+Hk2L/WLOMJIbGJLL502qMpX0WKetLiTyD0LdMrQCIbkH/p97u8CgAAA/n8SEAaCHOD4eTYv9Ys4wkhsYksvnTaoylfRYp60uJPIPQt0ytAIhuQf+n3u7wKAAAD+fxIQBoIc4Ph5Ni/1izjCSGxiSy+dNqjKV9FinrS4k8g9C3TK0AiG5B/6fe7vAoAAAP5/EhAGghzg+Hk2L/WLOMJIbGJLL502qMpX0WKetLiTyD0LdMrQCIbkH/p97u8CgAAA/n8SEAaCHOD4eTYv9Ys4wkhsYksvnTaoylfRYp60uJPIPQt0ytAIhuQf+n3u7wKAAAD+fxIQBoIc4Ph5Ni/1izjCSGxiSy+dNqjKV9FinrS4k8g9C3TK0AiG5B/6fe7vAoAAAP5/EhAGghzg+Hk2L/WLOMJIbGJLL502qMpX0WKetLiTyD0LdMrQCIbkH/p97u8CgAAA/n8SEAaCHOD4eTYv9Ys4wkhsYksvnTaoylfRYp60uJPIPQt0ytAIhuQf+n3u7wKAAAD+fxIQBoIc4Ph5Ni/1izjCSGxiSy+dNqjKV9FinrS4k8g9C3TK0AiG5B/6fe7vAoAAAP5/EhAGghzg+Hk2L/WLOMJIbGJLL502qMpX0WKetLiTyD0LdMrQCIbkH/p97u8BgAAA/n8SEAaCHOD4eTYv9Ys4wkhsYksvnTaoylfRYp60uJPIPQt0ytAIhuQf+n3u7wKAAAD+fxIQBoIc4Ph5Ni/1izjCSGxiSy+dNqjKV9FinrS4k8g9C3TK0AiG5B/6fe7vAoAAAP5/EhAGghzg+Hk2L/WLOMJIbGJLL502qMpX0WKetLiTyD0LdMrQCIbkH/p97u8CgAAA/n8SEAaCHOD4eTYv9Ys4wkhsYksvnTaoylfRYp60uJPIPQt0ytAIhuQf+n3u7wKAAAD+fxIQBoIc4Ph5Ni/1izjCSGxiSy+dNqjKV9FinrS4k8g9C3TK0AiG5B/6fe7vAoAAAP5/EhAGghzg+Hk2L/WLOMJIbGJLL502qMpX0WKetLiTyD0LdMrQCIbkH/p97u8CgAAA/n8SEAaCHOD4eTYv9Ys4wkhsYksvnTaoylfRYp60uJPIPQt0ytAIhuQf+n3u7wKAAAD+fxIQBoIc4Ph5Ni/1izjCSGxiSy+dNqjKV9FinrS4k8g9C3TK0AiG5B/6fe7vAoAAAP5/EhAGghzg+Hk2L/WLOMJIbGJLL502qMpX0WKetLiTyD0LdMrQCIbkH/p97u8CgA==\" type=\"audio/wav\" />\n",
       "                    Your browser does not support the audio element.\n",
       "                </audio>\n",
       "              "
      ],
      "text/plain": [
       "<IPython.lib.display.Audio object>"
      ]
     },
     "execution_count": null,
     "metadata": {},
     "output_type": "execute_result"
    }
   ],
   "source": [
    "#hide\n",
    "create_scripts()\n",
    "beep()"
   ]
  }
 ],
 "metadata": {
  "kernelspec": {
   "display_name": "Python 3",
   "language": "python",
   "name": "python3"
  }
 },
 "nbformat": 4,
 "nbformat_minor": 2
}
