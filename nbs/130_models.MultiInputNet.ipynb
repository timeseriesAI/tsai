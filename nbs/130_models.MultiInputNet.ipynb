{
 "cells": [
  {
   "cell_type": "code",
   "execution_count": null,
   "metadata": {},
   "outputs": [],
   "source": [
    "# default_exp models.MultiInputNet"
   ]
  },
  {
   "cell_type": "markdown",
   "metadata": {},
   "source": [
    "# MultiInputNet\n",
    "\n",
    "> This is an implementation created by Ignacio Oguiza - timeseriesAI@gmail.com. It can be used to combine different types of deep learning models into a single one that will accept multiple inputs from a MixedDataLoaders."
   ]
  },
  {
   "cell_type": "code",
   "execution_count": null,
   "metadata": {},
   "outputs": [],
   "source": [
    "#export\n",
    "from tsai.imports import *\n",
    "from tsai.models.layers import *\n",
    "from tsai.models.utils import *"
   ]
  },
  {
   "cell_type": "code",
   "execution_count": null,
   "metadata": {},
   "outputs": [],
   "source": [
    "#export\n",
    "class MultiInputNet(Module):\n",
    "    \n",
    "    def __init__(self, *models, c_out=None, reshape_fn=None, multi_output=False, custom_head=None, device=None, **kwargs):\n",
    "        r\"\"\"\n",
    "        Args:\n",
    "            models       : list of models (one model per dataloader in dls). They all must have a head.\n",
    "            c_out        : output layer size.\n",
    "            reshape_fn   : callable to transform a 3d input into a 2d input (Noop, Reshape(-1), GAP1d())\n",
    "            multi_output : determines if the model creates M+1 output (one per model plus a combined one), or just a single output (combined one).\n",
    "            custom_head  : allows you to pass a custom joint head. If None a MLP will be created (you can pass 'layers' to this default head using kwargs)\n",
    "            device       : cpu or cuda. If None, default_device() will be chosen.\n",
    "            kwargs       : head kwargs\n",
    "        \"\"\"\n",
    "\n",
    "        c_out = ifnone(c_out, get_layers(models[0], cond=is_linear)[-1].out_features)\n",
    "        self.M = len(models)\n",
    "        self.m = []\n",
    "        self.backbones = nn.ModuleList()\n",
    "        self.heads = nn.ModuleList()\n",
    "        head_nf = 0\n",
    "        min_nf = np.inf\n",
    "        for i, model in enumerate(models):\n",
    "            try: # if subscriptable\n",
    "                self.heads.append(model[1])\n",
    "                self.backbones.append(model[0])\n",
    "            except:\n",
    "                self.heads.append(model.head)\n",
    "                model.head = Identity()\n",
    "                self.backbones.append(model)\n",
    "            self.m.append(Sequential(self.backbones[-1], self.heads[-1]))\n",
    "            head_nf += model.head_nf\n",
    "            min_nf = min(min_nf, model.head_nf)\n",
    "\n",
    "        self.head_nf = head_nf\n",
    "        if custom_head is None: head = create_fc_head(head_nf, c_out, 1, **kwargs)\n",
    "        else: head = custom_head(self.head_nf, c_out, **kwargs)\n",
    "        self.heads.append(head)\n",
    "        self.multi_output = multi_output\n",
    "        self.m.append(self)\n",
    "        self.reshape = ifnone(reshape_fn, GAP1d())\n",
    "        self.concat = Concat(dim=1)\n",
    "        device = ifnone(device, default_device())\n",
    "        self.to(device=device)\n",
    "\n",
    "    def forward(self, xs):\n",
    "        xs = tuple(*xs) if len(xs) == 1 else xs\n",
    "        out = []\n",
    "        for k in range(self.M):\n",
    "            x = xs[k]\n",
    "            # Create separate features\n",
    "            feat = self.backbones[k](*x) if isinstance(x, (list, tuple, L)) else self.backbones[k](x)\n",
    "\n",
    "            # Process features separately\n",
    "            if self.training and self.multi_output: out.append(self.heads[k](feat))\n",
    "            \n",
    "            # Concat features\n",
    "            if feat.ndim == 3: feat = self.reshape(feat)\n",
    "            concat_feats = feat if k==0 else self.concat([concat_feats, feat])\n",
    "            \n",
    "        # Process joint features\n",
    "        out.append(self.heads[-1](concat_feats))\n",
    "        if self.training and self.multi_output: return out\n",
    "        else:  return out[0]"
   ]
  },
  {
   "cell_type": "code",
   "execution_count": null,
   "metadata": {},
   "outputs": [],
   "source": [
    "from fastai.data.transforms import *\n",
    "from tsai.data.all import *\n",
    "from tsai.models.utils import *\n",
    "from tsai.models.InceptionTimePlus import *\n",
    "from tsai.models.TabModel import *"
   ]
  },
  {
   "cell_type": "code",
   "execution_count": null,
   "metadata": {},
   "outputs": [
    {
     "name": "stderr",
     "output_type": "stream",
     "text": [
      "Feature Extraction: 100%|██████████| 40/40 [00:03<00:00, 10.85it/s]\n"
     ]
    }
   ],
   "source": [
    "dsid = 'NATOPS'\n",
    "X, y, splits = get_UCR_data(dsid, split_data=False)\n",
    "ts_features_df = get_ts_features(X, y)"
   ]
  },
  {
   "cell_type": "code",
   "execution_count": null,
   "metadata": {},
   "outputs": [
    {
     "data": {
      "text/html": [
       "<table border=\"1\" class=\"dataframe\">\n",
       "  <thead>\n",
       "    <tr style=\"text-align: left;\">\n",
       "      <th>epoch</th>\n",
       "      <th>train_loss</th>\n",
       "      <th>valid_loss</th>\n",
       "      <th>accuracy</th>\n",
       "      <th>roc_auc_score</th>\n",
       "      <th>time</th>\n",
       "    </tr>\n",
       "  </thead>\n",
       "  <tbody>\n",
       "    <tr>\n",
       "      <td>0</td>\n",
       "      <td>1.794394</td>\n",
       "      <td>1.647609</td>\n",
       "      <td>0.400000</td>\n",
       "      <td>0.803259</td>\n",
       "      <td>00:05</td>\n",
       "    </tr>\n",
       "  </tbody>\n",
       "</table>"
      ],
      "text/plain": [
       "<IPython.core.display.HTML object>"
      ]
     },
     "metadata": {},
     "output_type": "display_data"
    }
   ],
   "source": [
    "# raw ts\n",
    "tfms  = [None, [Categorize()]]\n",
    "batch_tfms = TSStandardize()\n",
    "ts_dls = get_ts_dls(X, y, splits=splits, tfms=tfms, batch_tfms=batch_tfms)\n",
    "ts_model = build_ts_model(InceptionTimePlus, dls=ts_dls)\n",
    "\n",
    "# ts features\n",
    "cat_names = None\n",
    "cont_names = ts_features_df.columns[:-2]\n",
    "y_names = 'target'\n",
    "tab_dls = get_tabular_dls(ts_features_df, cat_names=cat_names, cont_names=cont_names, y_names=y_names, splits=splits)\n",
    "tab_model = build_tabular_model(TabModel, dls=tab_dls)\n",
    "\n",
    "# mixed\n",
    "mixed_dls = get_mixed_dls(ts_dls, tab_dls)\n",
    "MultiModalNet = MultiInputNet(ts_model, tab_model)\n",
    "learn = Learner(mixed_dls, MultiModalNet, metrics=[accuracy, RocAuc()])\n",
    "learn.fit_one_cycle(1, 1e-3)"
   ]
  },
  {
   "cell_type": "code",
   "execution_count": null,
   "metadata": {},
   "outputs": [
    {
     "data": {
      "text/plain": [
       "(6, 6, True)"
      ]
     },
     "execution_count": null,
     "metadata": {},
     "output_type": "execute_result"
    }
   ],
   "source": [
    "tab_dls.c, ts_dls.c, ts_dls.cat"
   ]
  },
  {
   "cell_type": "code",
   "execution_count": null,
   "metadata": {},
   "outputs": [
    {
     "data": {
      "text/plain": [
       "((TSTensor(samples:64, vars:24, len:51),\n",
       "  (tensor([], size=(64, 0), dtype=torch.int64),\n",
       "   tensor([[ 0.5705,  0.9112,  0.5705,  ..., -1.2493, -0.9131, -1.0031],\n",
       "           [-0.6821, -0.9772, -0.6821,  ...,  0.3241,  0.0881,  0.8444],\n",
       "           [ 0.1946,  0.3996,  0.1946,  ..., -1.3933, -0.9556, -0.8486],\n",
       "           ...,\n",
       "           [ 0.0433, -0.0804,  0.0433,  ..., -0.3324, -0.4491, -0.2332],\n",
       "           [-2.0681, -2.0730, -2.0681,  ..., -0.2105, -0.3623, -0.6172],\n",
       "           [-0.7103, -0.9552, -0.7103,  ..., -1.5821, -0.9989, -1.7734]]))),\n",
       " TensorCategory([0, 3, 2, 2, 5, 5, 0, 1, 5, 0, 2, 1, 1, 1, 5, 3, 3, 1, 2, 4, 5, 2, 1, 4,\n",
       "         3, 1, 4, 3, 2, 4, 3, 4, 1, 0, 0, 5, 4, 3, 1, 2, 5, 5, 4, 1, 5, 0, 3, 2,\n",
       "         4, 1, 4, 0, 0, 0, 4, 4, 3, 0, 4, 4, 4, 2, 3, 1]))"
      ]
     },
     "execution_count": null,
     "metadata": {},
     "output_type": "execute_result"
    }
   ],
   "source": [
    "learn.dls.train.one_batch()"
   ]
  },
  {
   "cell_type": "code",
   "execution_count": null,
   "metadata": {},
   "outputs": [
    {
     "data": {
      "text/plain": [
       "FlattenedLoss of CrossEntropyLoss()"
      ]
     },
     "execution_count": null,
     "metadata": {},
     "output_type": "execute_result"
    }
   ],
   "source": [
    "learn.loss_func"
   ]
  },
  {
   "cell_type": "code",
   "execution_count": null,
   "metadata": {},
   "outputs": [],
   "source": [
    "#hide\n",
    "out = create_scripts(); beep(out)"
   ]
  }
 ],
 "metadata": {
  "kernelspec": {
   "display_name": "Python 3",
   "language": "python",
   "name": "python3"
  }
 },
 "nbformat": 4,
 "nbformat_minor": 2
}
