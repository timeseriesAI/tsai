{
 "cells": [
  {
   "cell_type": "markdown",
   "metadata": {
    "colab_type": "text",
    "id": "view-in-github"
   },
   "source": [
    "<a href=\"https://colab.research.google.com/github/timeseriesAI/timeseriesAI/blob/master/tutorial_nbs/00_How_to_efficiently_work_with_very_large_numpy_arrays.ipynb\" target=\"_parent\"><img src=\"https://colab.research.google.com/assets/colab-badge.svg\" alt=\"Open In Colab\"/></a>"
   ]
  },
  {
   "cell_type": "markdown",
   "metadata": {
    "colab_type": "text",
    "id": "s2UTqoddrEkY"
   },
   "source": [
    "created by Ignacio Oguiza - email: oguiza@gmail.com"
   ]
  },
  {
   "cell_type": "markdown",
   "metadata": {
    "colab_type": "text",
    "heading_collapsed": true,
    "id": "u7ikXU02rEkc"
   },
   "source": [
    "## How to efficiently work with (very large) Numpy Arrays?"
   ]
  },
  {
   "cell_type": "markdown",
   "metadata": {
    "hidden": true
   },
   "source": [
    "Sometimes we need to work with some very large numpy arrays that don't fit in memory. I'd like to share with you a way that works well for me."
   ]
  },
  {
   "cell_type": "markdown",
   "metadata": {
    "colab_type": "text",
    "heading_collapsed": true,
    "id": "0C7goWDmrEke"
   },
   "source": [
    "## Import libraries"
   ]
  },
  {
   "cell_type": "code",
   "execution_count": 1,
   "metadata": {
    "ExecuteTime": {
     "end_time": "2020-04-11T10:10:33.128797Z",
     "start_time": "2020-04-11T10:10:33.095936Z"
    },
    "colab": {},
    "colab_type": "code",
    "hidden": true,
    "id": "9LqU8ovGrEkg"
   },
   "outputs": [
    {
     "data": {
      "text/html": [
       "<style>.container {width:95% !important; }</style>"
      ],
      "text/plain": [
       "<IPython.core.display.HTML object>"
      ]
     },
     "metadata": {},
     "output_type": "display_data"
    }
   ],
   "source": [
    "import sys\n",
    "import os\n",
    "ISCOLAB = 'google.colab' in sys.modules\n",
    "if ISCOLAB:\n",
    "    # for bleeding edge\n",
    "    !pip install git+https://github.com/fastai/fastcore.git@master -q\n",
    "    !pip install git+https://github.com/fastai/fastai.git@master -q\n",
    "    !pip install git+https://github.com/timeseriesAI/timeseriesAI.git@master -q\n",
    "    \n",
    "    # for latest stable version\n",
    "    # !pip install tsai -q\n",
    "    \n",
    "import tsai\n",
    "from tsai.all import *\n",
    "display(HTML(\"<style>.container {width:95% !important; }</style>\"))"
   ]
  },
  {
   "cell_type": "code",
   "execution_count": 2,
   "metadata": {
    "ExecuteTime": {
     "end_time": "2020-04-11T10:11:07.198076Z",
     "start_time": "2020-04-11T10:11:07.176812Z"
    },
    "hidden": true
   },
   "outputs": [
    {
     "name": "stdout",
     "output_type": "stream",
     "text": [
      "tsai       : 0.1.0\n",
      "fastai     : 2.0.8\n",
      "fastcore   : 1.0.1\n",
      "torch      : 1.6.0\n",
      "scipy      : 1.5.2\n",
      "numpy      : 1.19.1\n",
      "pandas     : 1.1.1\n",
      "Total RAM  : 31.26 GB\n",
      "Used RAM   : 14.24 GB\n",
      "n_cpus     : 8\n",
      "device     : cuda (GeForce RTX 2080 Ti)\n"
     ]
    }
   ],
   "source": [
    "print('tsai       :', tsai.__version__)\n",
    "print('fastai     :', fastai.__version__)\n",
    "print('fastcore   :', fastcore.__version__)\n",
    "print('torch      :', torch.__version__)\n",
    "print('scipy      :', sp.__version__)\n",
    "print('numpy      :', np.__version__)\n",
    "print('pandas     :', pd.__version__)\n",
    "print(f'Total RAM  : {bytes2GB(psutil.virtual_memory().total):5.2f} GB')\n",
    "print(f'Used RAM   : {bytes2GB(psutil.virtual_memory().used):5.2f} GB')\n",
    "print('n_cpus     :', cpus)\n",
    "iscuda = torch.cuda.is_available()\n",
    "if iscuda: print('device     : {} ({})'.format(device, torch.cuda.get_device_name(0)))\n",
    "else: print('device     :', device)"
   ]
  },
  {
   "cell_type": "markdown",
   "metadata": {
    "colab_type": "text",
    "heading_collapsed": true,
    "id": "ZikgTzvBrEks"
   },
   "source": [
    "## Introduction"
   ]
  },
  {
   "cell_type": "markdown",
   "metadata": {
    "colab_type": "text",
    "hidden": true,
    "id": "tINQJXXKrEku"
   },
   "source": [
    "I normally work with time series data. I made the decision to use numpy arrays to store my data since the can easily handle multiple dimensions, and are really very efficient.\n",
    "\n",
    "But sometimes datasets are really big (many GBs) and don't fit in memory. So I started looking around and found something that works very well: [**np.memmap**](https://docs.scipy.org/doc/numpy/reference/generated/numpy.memmap.html). Conceptually they work as arrays on disk, and that's how I often call them.\n",
    "\n",
    "np.memmap creates a map to numpy array you have previously saved on disk, so that you can efficiently access small segments of those (small or large) files on disk, without reading the entire file into memory. And that's exactly what we need with deep learning, be able to quickly create a batch in memory, without reading the entire file (that is stored on disk). \n",
    "\n",
    "The best analogy I've found are image files. You may have a very large dataset on disk (that far exceeds your RAM). In order to create your DL datasets, what you pass are the paths to each individual file, so that you can then load a few images and create a batch on demand.\n",
    "\n",
    "You can view np.memmap as the path collection that can be used to load numpy data on demand when you need to create a batch.\n",
    "\n",
    "So let's see how you can work with larger than RAM arrays on disk."
   ]
  },
  {
   "cell_type": "markdown",
   "metadata": {
    "colab_type": "text",
    "hidden": true,
    "id": "MkJDdENPrEkw"
   },
   "source": [
    "On my laptop I have only 8GB of RAM."
   ]
  },
  {
   "cell_type": "code",
   "execution_count": 0,
   "metadata": {
    "ExecuteTime": {
     "end_time": "2020-03-19T16:54:44.854937Z",
     "start_time": "2020-03-19T16:54:34.953958Z"
    },
    "colab": {},
    "colab_type": "code",
    "hidden": true,
    "id": "udC2CWyerEky",
    "outputId": "ff20c1a3-2890-4123-fca5-3814ee2ee568"
   },
   "outputs": [
    {
     "name": "stdout",
     "output_type": "stream",
     "text": [
      "Total RAM      :  8.00 GB\n",
      "Available RAM  :  3.75 GB\n",
      "\n"
     ]
    }
   ],
   "source": [
    "print(f'Total RAM      : {bytes2GB(psutil.virtual_memory().total):5.2f} GB')\n",
    "print(f'Available RAM  : {bytes2GB(psutil.virtual_memory().available):5.2f} GB\\n')"
   ]
  },
  {
   "cell_type": "markdown",
   "metadata": {
    "colab_type": "text",
    "hidden": true,
    "id": "mDzcMZXIrEk_"
   },
   "source": [
    "I will try to demonstrate how you can handle a 10 GB numpy array dataset in an efficient way. "
   ]
  },
  {
   "cell_type": "markdown",
   "metadata": {
    "colab_type": "text",
    "heading_collapsed": true,
    "id": "q9S_h9CurElA"
   },
   "source": [
    "## Create and save a larger than memory array"
   ]
  },
  {
   "cell_type": "markdown",
   "metadata": {
    "colab_type": "text",
    "hidden": true,
    "id": "GFKykgxdrElC"
   },
   "source": [
    "I will now create a large numpy array that doesn't fit in memory. \n",
    "Since I don't have enough RAM, I'll create an empty array on disk, and then load data in chunks that fit in memory.\n",
    "\n",
    "⚠️ If you want to to experiment with large datasets, you may uncomment and run this code. **It will create a ~10GB on your disk**. \n",
    "If you do it, remember to delete it later.\n",
    "In my laptop it took me around **11 mins to run.**"
   ]
  },
  {
   "cell_type": "code",
   "execution_count": 0,
   "metadata": {
    "ExecuteTime": {
     "end_time": "2020-03-19T16:54:44.870034Z",
     "start_time": "2020-03-19T16:54:44.861308Z"
    },
    "colab": {},
    "colab_type": "code",
    "hidden": true,
    "id": "9NDDenivrElE"
   },
   "outputs": [],
   "source": [
    "# # Save a small empty array\n",
    "# X_temp_fn = './data/temp_X.npy'\n",
    "# np.save(X_temp_fn, np.empty(1))\n",
    "\n",
    "# # Create a np.memmap with desired dtypes and shape of the large array you want to save.\n",
    "# # It's just a placeholder that doesn't contain any data\n",
    "# X_fn = './data/X_on_disk.npy'\n",
    "# X = np.memmap(X_temp_fn, dtype='float32', shape=(100000, 50, 512))\n",
    "\n",
    "# # We are going to create a loop to fill in the np.memmap\n",
    "# start = 0\n",
    "# for i in range(20):\n",
    "#     # You now grab a chunk of your data that fits in memory\n",
    "#     # This could come from a pandas dataframe for example\n",
    "#     # I will simulate it with some random data\n",
    "#     data_chunk = np.random.rand(5000, 50, 512)\n",
    "#     end = start + data_chunk.shape[0]\n",
    "    \n",
    "#     # I now fill a slice of the np.memmap\n",
    "#     X[start:end] = data_chunk\n",
    "    \n",
    "#     start = end\n",
    "#     del data_chunk\n",
    "\n",
    "# #I can now remove the temp file I created\n",
    "# os.remove(X_temp_fn)\n",
    "\n",
    "# # Once the data is loaded on the np.memmap, I save it as a normal np.array\n",
    "# np.save(X_fn, X)\n",
    "\n",
    "# # I will create a smaller array. Sinc this fits in memory, I don't need to use a memmap\n",
    "# y_fn = 'y_on_disk.npy'\n",
    "# y = np.random.randint(0, 10, X.shape[0])\n",
    "# labels = np.array(['a', 'b', 'c', 'd', 'e', 'f', 'g', 'h', 'i', 'j'])\n",
    "# np.save(y_fn, labels[y])\n",
    "\n",
    "# del X, y"
   ]
  },
  {
   "cell_type": "markdown",
   "metadata": {
    "colab_type": "text",
    "hidden": true,
    "id": "pVWFDrjZrElN"
   },
   "source": [
    "Ok. So let's check the size of these files on memory."
   ]
  },
  {
   "cell_type": "code",
   "execution_count": 0,
   "metadata": {
    "ExecuteTime": {
     "end_time": "2020-03-19T16:54:44.887089Z",
     "start_time": "2020-03-19T16:54:44.875763Z"
    },
    "colab": {},
    "colab_type": "code",
    "hidden": true,
    "id": "eWrVL856rElP",
    "outputId": "f914bff6-cf73-4830-ad5c-0ab7d3a4f01f"
   },
   "outputs": [
    {
     "name": "stdout",
     "output_type": "stream",
     "text": [
      "X array:  10240000128 bytes (9.540 GB)\n",
      "y array:       400128 bytes (0.000 GB)\n"
     ]
    }
   ],
   "source": [
    "print(f'X array: {os.path.getsize(\"./data/X_on_disk.npy\"):12} bytes ({bytes2GB(os.path.getsize(\"./data/X_on_disk.npy\")):3.3f} GB)')\n",
    "print(f'y array: {os.path.getsize(\"./data/y_on_disk.npy\"):12} bytes ({bytes2GB(os.path.getsize(\"./data/y_on_disk.npy\")):3.3f} GB)')"
   ]
  },
  {
   "cell_type": "markdown",
   "metadata": {
    "colab_type": "text",
    "heading_collapsed": true,
    "id": "BQ1_msZmrElZ"
   },
   "source": [
    "## Load an array on disk (np.memmap)"
   ]
  },
  {
   "cell_type": "markdown",
   "metadata": {
    "colab_type": "text",
    "hidden": true,
    "id": "QEvaUCD9rEla"
   },
   "source": [
    "Remember I only have an 8 GB RAM on this laptop, so I couldn't load these datasets in memory.\n",
    "\n",
    "☣️ Actually I accidentally loaded the \"X_on_disk.npy\" file, and my laptop crahsed so I had to reboot it!\n",
    "\n",
    "So let's now load data as arrays on disk (np.memmap). The way to do it is super simple, and very efficient. You just do it as you would with a normal array, but add an mmap_mode.\n",
    "\n",
    "There are 4 modes: \n",
    "\n",
    "- ‘r’\tOpen existing file for reading only.\n",
    "- ‘r+’\tOpen existing file for reading and writing.\n",
    "- ‘w+’\tCreate or overwrite existing file for reading and writing.\n",
    "- ‘c’\tCopy-on-write: assignments affect data in memory, but changes are not saved to disk. The file on disk is read-only.\n",
    "\n",
    "I normally use mode 'r' since I want to be able to make changes to data in memory (transforms for example), without affecting data on disk (same approach as with image data). This is the same thing you do with image files on disk, that are just read, and then modified in memory, without change the file on disk."
   ]
  },
  {
   "cell_type": "code",
   "execution_count": 0,
   "metadata": {
    "ExecuteTime": {
     "end_time": "2020-03-20T17:36:19.225307Z",
     "start_time": "2020-03-20T17:36:19.114627Z"
    },
    "colab": {},
    "colab_type": "code",
    "hidden": true,
    "id": "HdTrKEQjrElc",
    "outputId": "98b6fe19-2be7-4ded-a9d8-bd89df1b0d50"
   },
   "outputs": [
    {
     "name": "stdout",
     "output_type": "stream",
     "text": [
      "(100000, 50, 512)\n"
     ]
    }
   ],
   "source": [
    "X_on_disk = np.load('./data/X_on_disk.npy', mmap_mode='r')\n",
    "y_on_disk = np.load('./data/y_on_disk.npy', mmap_mode='r')"
   ]
  },
  {
   "cell_type": "markdown",
   "metadata": {
    "colab_type": "text",
    "hidden": true,
    "id": "idjgNgj0rEln"
   },
   "source": [
    "**Fast load**: it only takes a few ms to \"load\" a memory map to a 10 GB array on disk.\n",
    "\n",
    "In fact, the only thing that is loaded is a map to the array stored on disk. That's why it's so fast."
   ]
  },
  {
   "cell_type": "markdown",
   "metadata": {
    "colab_type": "text",
    "heading_collapsed": true,
    "id": "Cfd4oMETrElp"
   },
   "source": [
    "## Arrays on disk: main features"
   ]
  },
  {
   "cell_type": "markdown",
   "metadata": {
    "colab_type": "text",
    "heading_collapsed": true,
    "hidden": true,
    "id": "BlrhcMF6rElr"
   },
   "source": [
    "### Very limited RAM usage"
   ]
  },
  {
   "cell_type": "code",
   "execution_count": 0,
   "metadata": {
    "ExecuteTime": {
     "end_time": "2020-03-20T17:36:53.116098Z",
     "start_time": "2020-03-20T17:36:53.062903Z"
    },
    "colab": {},
    "colab_type": "code",
    "hidden": true,
    "id": "hQJSvWxerElt",
    "outputId": "fe9d5e47-5aad-4212-88bf-555ad38b4625"
   },
   "outputs": [
    {
     "name": "stdout",
     "output_type": "stream",
     "text": [
      "(100000, 50, 512) (100000,)\n"
     ]
    }
   ],
   "source": [
    "print(X_on_disk.shape, y_on_disk.shape)"
   ]
  },
  {
   "cell_type": "code",
   "execution_count": 0,
   "metadata": {
    "ExecuteTime": {
     "end_time": "2020-03-19T16:54:44.954355Z",
     "start_time": "2020-03-19T16:54:44.945138Z"
    },
    "colab": {},
    "colab_type": "code",
    "hidden": true,
    "id": "iyNgvLD4rEl1",
    "outputId": "33817483-cb99-47e0-fcbf-22b6b4d4ee9f"
   },
   "outputs": [
    {
     "name": "stdout",
     "output_type": "stream",
     "text": [
      "X array on disk:          152 bytes (0.000 GB)\n",
      "y array on disk:          120 bytes (0.000 GB)\n"
     ]
    }
   ],
   "source": [
    "print(f'X array on disk: {sys.getsizeof(X_on_disk):12} bytes ({bytes2GB(sys.getsizeof(X_on_disk)):3.3f} GB)')\n",
    "print(f'y array on disk: {sys.getsizeof(y_on_disk):12} bytes ({bytes2GB(sys.getsizeof(y_on_disk)):3.3f} GB)')"
   ]
  },
  {
   "cell_type": "markdown",
   "metadata": {
    "colab_type": "text",
    "hidden": true,
    "id": "lkUAvbZMrEl-"
   },
   "source": [
    "**152 bytes of RAM for a 10GB array**. This is the great benefit of arrays on disk.\n",
    "\n",
    "Arrays on disk barely use any RAM until each the it's sliced and an element is converted into a np.array or a tensor.\n",
    "\n",
    "This is equivalent to the size of file paths in images (very limited) compared to the files themselves (actual images). "
   ]
  },
  {
   "cell_type": "markdown",
   "metadata": {
    "colab_type": "text",
    "heading_collapsed": true,
    "hidden": true,
    "id": "HkRnJDKhrEmA"
   },
   "source": [
    "### Types"
   ]
  },
  {
   "cell_type": "markdown",
   "metadata": {
    "colab_type": "text",
    "hidden": true,
    "id": "U4ixDSaUrEmB"
   },
   "source": [
    "np.memmap is a subclass of np.ndarray"
   ]
  },
  {
   "cell_type": "code",
   "execution_count": 0,
   "metadata": {
    "ExecuteTime": {
     "end_time": "2020-03-19T16:54:44.980020Z",
     "start_time": "2020-03-19T16:54:44.964356Z"
    },
    "colab": {},
    "colab_type": "code",
    "hidden": true,
    "id": "fOgZ-zNbrEmD",
    "outputId": "1385b49f-dd71-456b-b1b8-9a438614195b"
   },
   "outputs": [
    {
     "data": {
      "text/plain": [
       "True"
      ]
     },
     "execution_count": 7,
     "metadata": {
      "tags": []
     },
     "output_type": "execute_result"
    }
   ],
   "source": [
    "isinstance(X_on_disk, np.ndarray)"
   ]
  },
  {
   "cell_type": "code",
   "execution_count": 0,
   "metadata": {
    "ExecuteTime": {
     "end_time": "2020-03-19T16:54:44.999036Z",
     "start_time": "2020-03-19T16:54:44.987307Z"
    },
    "colab": {},
    "colab_type": "code",
    "hidden": true,
    "id": "9dlvO5W-rEmS",
    "outputId": "0e77cdac-961c-44dc-dd88-fb3f88d5ce22"
   },
   "outputs": [
    {
     "data": {
      "text/plain": [
       "numpy.memmap"
      ]
     },
     "execution_count": 8,
     "metadata": {
      "tags": []
     },
     "output_type": "execute_result"
    }
   ],
   "source": [
    "type(X_on_disk)"
   ]
  },
  {
   "cell_type": "markdown",
   "metadata": {
    "colab_type": "text",
    "heading_collapsed": true,
    "hidden": true,
    "id": "z2AXmHLErEmb"
   },
   "source": [
    "### Operations"
   ]
  },
  {
   "cell_type": "markdown",
   "metadata": {
    "colab_type": "text",
    "hidden": true,
    "id": "0z82CHnYrEmc"
   },
   "source": [
    "With np.memmap you can perform the same operations you would with a normal numpy array. \n",
    "The most common operations you will perform in deep learning are:\n",
    "\n",
    "- slicing\n",
    "- calculating stats: mean and std\n",
    "- scaling (using normalize or standardize)\n",
    "- transformation into a tensor\n",
    "\n",
    "Once you get the array on disk slice, you'll convert it into a tensor, move to a GPU and performs operations there."
   ]
  },
  {
   "cell_type": "markdown",
   "metadata": {
    "colab_type": "text",
    "hidden": true,
    "id": "wdHMTGmRrEme"
   },
   "source": [
    "\n",
    "⚠️ You need to be careful though not to convert the entire np.memmap to an array/ tensor if it's larger than your RAM. This will crash your computer unless you have enough RAM, so you would have to reboot!\n",
    "\n",
    "**DON'T DO THIS:  torch.from_numpy(X) or np.array(X)** unless you have ehough RAM.\n",
    "\n",
    "To avoid issues during test, I created a smaller array on disk (that I can store in memory). When I want to test something I test it with that array first. It's important to always verify that the type output of your operations is np.memmap, which means data is still in memory."
   ]
  },
  {
   "cell_type": "markdown",
   "metadata": {
    "colab_type": "text",
    "hidden": true,
    "id": "qdYUHi2mrEmf"
   },
   "source": [
    "#### Slicing"
   ]
  },
  {
   "cell_type": "markdown",
   "metadata": {
    "colab_type": "text",
    "hidden": true,
    "id": "PvMz6dibrEmh"
   },
   "source": [
    "To ensure you don't brind the entire array in memory (which may crash your computer) you can always work with slices of data, which is by the way how fastai works.\n",
    "\n",
    "If you use mode 'r' you can grab a sample and make changes to it, but this won't modify data on disk."
   ]
  },
  {
   "cell_type": "code",
   "execution_count": 0,
   "metadata": {
    "ExecuteTime": {
     "end_time": "2020-03-19T16:54:45.026253Z",
     "start_time": "2020-03-19T16:54:45.006594Z"
    },
    "colab": {},
    "colab_type": "code",
    "hidden": true,
    "id": "8ZW_FP5trEmi",
    "outputId": "25566fd0-813d-4d54-9acd-8f1b486afae4"
   },
   "outputs": [
    {
     "data": {
      "text/plain": [
       "memmap([[0.2626543 , 0.81090355, 0.32464218, ..., 0.23839498, 0.67757344,\n",
       "         0.3310132 ],\n",
       "        [0.7845197 , 0.68123066, 0.38421404, ..., 0.5383686 , 0.01147997,\n",
       "         0.13235402],\n",
       "        [0.6679299 , 0.56707335, 0.02308166, ..., 0.77351165, 0.20462573,\n",
       "         0.9898304 ],\n",
       "        ...,\n",
       "        [0.38630033, 0.5770135 , 0.18095827, ..., 0.9798217 , 0.56657016,\n",
       "         0.6018766 ],\n",
       "        [0.09030128, 0.01747155, 0.5882474 , ..., 0.28344667, 0.6954193 ,\n",
       "         0.93599343],\n",
       "        [0.91863537, 0.01252496, 0.4146458 , ..., 0.80348647, 0.9133351 ,\n",
       "         0.5418618 ]], dtype=float32)"
      ]
     },
     "execution_count": 9,
     "metadata": {
      "tags": []
     },
     "output_type": "execute_result"
    }
   ],
   "source": [
    "x = X_on_disk[0]\n",
    "x"
   ]
  },
  {
   "cell_type": "markdown",
   "metadata": {
    "colab_type": "text",
    "hidden": true,
    "id": "uV7MN7PYrEmr"
   },
   "source": [
    "It's important to note that **when we perform an math operation on a np.memmap (add, subtract, ...) the output is a np.array, and no longer a np.memmap.**\n",
    "\n",
    "⚠️ Remember you don't want to run this type of operations with a memmap larger than your RAM!! That's why I do it with a slice."
   ]
  },
  {
   "cell_type": "code",
   "execution_count": 0,
   "metadata": {
    "ExecuteTime": {
     "end_time": "2020-03-19T16:54:45.047095Z",
     "start_time": "2020-03-19T16:54:45.032134Z"
    },
    "colab": {},
    "colab_type": "code",
    "hidden": true,
    "id": "NJXfcJXLrEms",
    "outputId": "69da09c6-158c-4601-e1c9-4be018aeab94"
   },
   "outputs": [
    {
     "data": {
      "text/plain": [
       "array([[1.2626543, 1.8109035, 1.3246422, ..., 1.238395 , 1.6775734,\n",
       "        1.3310132],\n",
       "       [1.7845197, 1.6812307, 1.384214 , ..., 1.5383686, 1.01148  ,\n",
       "        1.132354 ],\n",
       "       [1.6679299, 1.5670733, 1.0230817, ..., 1.7735116, 1.2046257,\n",
       "        1.9898304],\n",
       "       ...,\n",
       "       [1.3863003, 1.5770135, 1.1809583, ..., 1.9798217, 1.5665702,\n",
       "        1.6018766],\n",
       "       [1.0903013, 1.0174716, 1.5882474, ..., 1.2834467, 1.6954193,\n",
       "        1.9359934],\n",
       "       [1.9186354, 1.012525 , 1.4146458, ..., 1.8034865, 1.9133351,\n",
       "        1.5418618]], dtype=float32)"
      ]
     },
     "execution_count": 10,
     "metadata": {
      "tags": []
     },
     "output_type": "execute_result"
    }
   ],
   "source": [
    "x = X_on_disk[0] + 1\n",
    "x"
   ]
  },
  {
   "cell_type": "code",
   "execution_count": 0,
   "metadata": {
    "ExecuteTime": {
     "end_time": "2020-03-19T16:54:45.073567Z",
     "start_time": "2020-03-19T16:54:45.054860Z"
    },
    "colab": {},
    "colab_type": "code",
    "hidden": true,
    "id": "UIbacPBcrEm0",
    "outputId": "011861ba-48e9-4760-bfdd-9625cdd10d10"
   },
   "outputs": [
    {
     "data": {
      "text/plain": [
       "tensor([[1.2627, 1.8109, 1.3246,  ..., 1.2384, 1.6776, 1.3310],\n",
       "        [1.7845, 1.6812, 1.3842,  ..., 1.5384, 1.0115, 1.1324],\n",
       "        [1.6679, 1.5671, 1.0231,  ..., 1.7735, 1.2046, 1.9898],\n",
       "        ...,\n",
       "        [1.3863, 1.5770, 1.1810,  ..., 1.9798, 1.5666, 1.6019],\n",
       "        [1.0903, 1.0175, 1.5882,  ..., 1.2834, 1.6954, 1.9360],\n",
       "        [1.9186, 1.0125, 1.4146,  ..., 1.8035, 1.9133, 1.5419]])"
      ]
     },
     "execution_count": 11,
     "metadata": {
      "tags": []
     },
     "output_type": "execute_result"
    }
   ],
   "source": [
    "x = torch.from_numpy(X_on_disk[0])\n",
    "x2 = x + 1\n",
    "x2"
   ]
  },
  {
   "cell_type": "markdown",
   "metadata": {
    "colab_type": "text",
    "hidden": true,
    "id": "N0L3ot1XrEnC"
   },
   "source": [
    "As you can see, this doesn't affect the original np.memmap"
   ]
  },
  {
   "cell_type": "code",
   "execution_count": 0,
   "metadata": {
    "ExecuteTime": {
     "end_time": "2020-03-19T16:54:45.091612Z",
     "start_time": "2020-03-19T16:54:45.078807Z"
    },
    "colab": {},
    "colab_type": "code",
    "hidden": true,
    "id": "1IB51hJyrEnD",
    "outputId": "abacc8e3-58dd-4104-9b05-29f948d964c0"
   },
   "outputs": [
    {
     "data": {
      "text/plain": [
       "memmap([[0.2626543 , 0.81090355, 0.32464218, ..., 0.23839498, 0.67757344,\n",
       "         0.3310132 ],\n",
       "        [0.7845197 , 0.68123066, 0.38421404, ..., 0.5383686 , 0.01147997,\n",
       "         0.13235402],\n",
       "        [0.6679299 , 0.56707335, 0.02308166, ..., 0.77351165, 0.20462573,\n",
       "         0.9898304 ],\n",
       "        ...,\n",
       "        [0.38630033, 0.5770135 , 0.18095827, ..., 0.9798217 , 0.56657016,\n",
       "         0.6018766 ],\n",
       "        [0.09030128, 0.01747155, 0.5882474 , ..., 0.28344667, 0.6954193 ,\n",
       "         0.93599343],\n",
       "        [0.91863537, 0.01252496, 0.4146458 , ..., 0.80348647, 0.9133351 ,\n",
       "         0.5418618 ]], dtype=float32)"
      ]
     },
     "execution_count": 12,
     "metadata": {
      "tags": []
     },
     "output_type": "execute_result"
    }
   ],
   "source": [
    "X_on_disk[0]"
   ]
  },
  {
   "cell_type": "markdown",
   "metadata": {
    "colab_type": "text",
    "hidden": true,
    "id": "dl3glrYMrEnL"
   },
   "source": [
    "You can slice an array on disk by any axis, and it'll return a memmap. Slicing by any axis is very fast."
   ]
  },
  {
   "cell_type": "code",
   "execution_count": 0,
   "metadata": {
    "ExecuteTime": {
     "end_time": "2020-03-19T16:54:45.111608Z",
     "start_time": "2020-03-19T16:54:45.096867Z"
    },
    "colab": {},
    "colab_type": "code",
    "hidden": true,
    "id": "VJQoT7gcrEnN",
    "outputId": "dae52625-2473-44d8-fb06-121745c16567"
   },
   "outputs": [
    {
     "data": {
      "text/plain": [
       "memmap([[0.2626543 , 0.81090355, 0.32464218, ..., 0.23839498, 0.67757344,\n",
       "         0.3310132 ],\n",
       "        [0.7845197 , 0.68123066, 0.38421404, ..., 0.5383686 , 0.01147997,\n",
       "         0.13235402],\n",
       "        [0.6679299 , 0.56707335, 0.02308166, ..., 0.77351165, 0.20462573,\n",
       "         0.9898304 ],\n",
       "        ...,\n",
       "        [0.38630033, 0.5770135 , 0.18095827, ..., 0.9798217 , 0.56657016,\n",
       "         0.6018766 ],\n",
       "        [0.09030128, 0.01747155, 0.5882474 , ..., 0.28344667, 0.6954193 ,\n",
       "         0.93599343],\n",
       "        [0.91863537, 0.01252496, 0.4146458 , ..., 0.80348647, 0.9133351 ,\n",
       "         0.5418618 ]], dtype=float32)"
      ]
     },
     "execution_count": 13,
     "metadata": {
      "tags": []
     },
     "output_type": "execute_result"
    }
   ],
   "source": [
    "X_on_disk[0]"
   ]
  },
  {
   "cell_type": "code",
   "execution_count": 0,
   "metadata": {
    "ExecuteTime": {
     "end_time": "2020-03-19T16:54:45.133031Z",
     "start_time": "2020-03-19T16:54:45.117570Z"
    },
    "colab": {},
    "colab_type": "code",
    "hidden": true,
    "id": "RwCJNNAFrEnU",
    "outputId": "a35f678f-c602-4e1d-9c08-83727499428f"
   },
   "outputs": [
    {
     "data": {
      "text/plain": [
       "memmap([[0.2626543 , 0.81090355, 0.32464218, ..., 0.23839498, 0.67757344,\n",
       "         0.3310132 ],\n",
       "        [0.7720094 , 0.21011464, 0.02604653, ..., 0.8257726 , 0.9297855 ,\n",
       "         0.34065437],\n",
       "        [0.10447659, 0.7670673 , 0.838875  , ..., 0.76260966, 0.5328985 ,\n",
       "         0.2714968 ],\n",
       "        ...,\n",
       "        [0.8387722 , 0.13451461, 0.8197776 , ..., 0.3349404 , 0.43819886,\n",
       "         0.65123564],\n",
       "        [0.20458107, 0.76076484, 0.5841517 , ..., 0.8807168 , 0.8641069 ,\n",
       "         0.5569748 ],\n",
       "        [0.6686797 , 0.9680852 , 0.04992276, ..., 0.99571806, 0.22515585,\n",
       "         0.9119718 ]], dtype=float32)"
      ]
     },
     "execution_count": 14,
     "metadata": {
      "tags": []
     },
     "output_type": "execute_result"
    }
   ],
   "source": [
    "X_on_disk[:, 0]"
   ]
  },
  {
   "cell_type": "markdown",
   "metadata": {
    "colab_type": "text",
    "hidden": true,
    "id": "IFcP9IaPrEnb"
   },
   "source": [
    "However, bear in mind that if you use multiple indices, the output will be a regular numpy array. This is important as it will use more RAM. "
   ]
  },
  {
   "cell_type": "code",
   "execution_count": 0,
   "metadata": {
    "ExecuteTime": {
     "end_time": "2020-03-19T16:54:45.156585Z",
     "start_time": "2020-03-19T16:54:45.139055Z"
    },
    "colab": {},
    "colab_type": "code",
    "hidden": true,
    "id": "6EGFxv-wrEnd",
    "outputId": "5e81fece-8d05-42eb-8682-5679c3297aff"
   },
   "outputs": [
    {
     "data": {
      "text/plain": [
       "array([[[0.2626543 , 0.81090355, 0.32464218, ..., 0.23839498,\n",
       "         0.67757344, 0.3310132 ],\n",
       "        [0.7845197 , 0.68123066, 0.38421404, ..., 0.5383686 ,\n",
       "         0.01147997, 0.13235402],\n",
       "        [0.6679299 , 0.56707335, 0.02308166, ..., 0.77351165,\n",
       "         0.20462573, 0.9898304 ],\n",
       "        ...,\n",
       "        [0.38630033, 0.5770135 , 0.18095827, ..., 0.9798217 ,\n",
       "         0.56657016, 0.6018766 ],\n",
       "        [0.09030128, 0.01747155, 0.5882474 , ..., 0.28344667,\n",
       "         0.6954193 , 0.93599343],\n",
       "        [0.91863537, 0.01252496, 0.4146458 , ..., 0.80348647,\n",
       "         0.9133351 , 0.5418618 ]],\n",
       "\n",
       "       [[0.7720094 , 0.21011464, 0.02604653, ..., 0.8257726 ,\n",
       "         0.9297855 , 0.34065437],\n",
       "        [0.7020411 , 0.7310075 , 0.00217595, ..., 0.74274397,\n",
       "         0.85443044, 0.469761  ],\n",
       "        [0.7890441 , 0.29349124, 0.4332237 , ..., 0.22531688,\n",
       "         0.13641207, 0.955273  ],\n",
       "        ...,\n",
       "        [0.08417109, 0.47016835, 0.9377146 , ..., 0.82218635,\n",
       "         0.58684355, 0.44834593],\n",
       "        [0.15103178, 0.53963864, 0.3386973 , ..., 0.9789423 ,\n",
       "         0.16320346, 0.75033426],\n",
       "        [0.9836441 , 0.8263102 , 0.97352153, ..., 0.9199377 ,\n",
       "         0.65910494, 0.63731635]]], dtype=float32)"
      ]
     },
     "execution_count": 15,
     "metadata": {
      "tags": []
     },
     "output_type": "execute_result"
    }
   ],
   "source": [
    "X_on_disk[[0,1]]"
   ]
  },
  {
   "cell_type": "markdown",
   "metadata": {
    "colab_type": "text",
    "hidden": true,
    "id": "HGyxjo3LrEnk"
   },
   "source": [
    "There's a trick we can use avoid this making use of the excellent new L class in fastai. It is to **itemify** the np.memmap/s. "
   ]
  },
  {
   "cell_type": "code",
   "execution_count": 0,
   "metadata": {
    "ExecuteTime": {
     "end_time": "2020-03-20T17:37:23.558708Z",
     "start_time": "2020-03-20T17:37:23.517658Z"
    },
    "colab": {},
    "colab_type": "code",
    "hidden": true,
    "id": "WTJHYcfsrEnm"
   },
   "outputs": [],
   "source": [
    "def itemify(*x): return L(*x).zip()"
   ]
  },
  {
   "cell_type": "markdown",
   "metadata": {
    "colab_type": "text",
    "hidden": true,
    "id": "TDvphuSmrEnt"
   },
   "source": [
    "To itemify one or several np.memmap/s is very fast. Let's see how long it takes with a 10 GB array."
   ]
  },
  {
   "cell_type": "code",
   "execution_count": 0,
   "metadata": {
    "ExecuteTime": {
     "end_time": "2020-03-20T17:37:37.335419Z",
     "start_time": "2020-03-20T17:37:31.539819Z"
    },
    "colab": {},
    "colab_type": "code",
    "hidden": true,
    "id": "hB2J6ppPrEnu"
   },
   "outputs": [],
   "source": [
    "X_on_disk_as_items = itemify(X_on_disk)"
   ]
  },
  {
   "cell_type": "markdown",
   "metadata": {
    "colab_type": "text",
    "hidden": true,
    "id": "6LB-mABtrEn2"
   },
   "source": [
    "5 seconds to return individual records on disk! Bear in mind you only need to perform this once!\n",
    "\n",
    "So now, you can select multiple items at the same time, and they will all still be on disk:"
   ]
  },
  {
   "cell_type": "code",
   "execution_count": 0,
   "metadata": {
    "ExecuteTime": {
     "end_time": "2020-03-19T16:54:46.829712Z",
     "start_time": "2020-03-19T16:54:46.814045Z"
    },
    "colab": {},
    "colab_type": "code",
    "hidden": true,
    "id": "hS4S5qrorEn3",
    "outputId": "a63b46ae-2b3c-4fd0-9025-9ce5a5a3db92"
   },
   "outputs": [
    {
     "data": {
      "text/plain": [
       "(#2) [(memmap([[0.2626543 , 0.81090355, 0.32464218, ..., 0.23839498, 0.67757344,\n",
       "         0.3310132 ],\n",
       "        [0.7845197 , 0.68123066, 0.38421404, ..., 0.5383686 , 0.01147997,\n",
       "         0.13235402],\n",
       "        [0.6679299 , 0.56707335, 0.02308166, ..., 0.77351165, 0.20462573,\n",
       "         0.9898304 ],\n",
       "        ...,\n",
       "        [0.38630033, 0.5770135 , 0.18095827, ..., 0.9798217 , 0.56657016,\n",
       "         0.6018766 ],\n",
       "        [0.09030128, 0.01747155, 0.5882474 , ..., 0.28344667, 0.6954193 ,\n",
       "         0.93599343],\n",
       "        [0.91863537, 0.01252496, 0.4146458 , ..., 0.80348647, 0.9133351 ,\n",
       "         0.5418618 ]], dtype=float32),),(memmap([[0.7720094 , 0.21011464, 0.02604653, ..., 0.8257726 , 0.9297855 ,\n",
       "         0.34065437],\n",
       "        [0.7020411 , 0.7310075 , 0.00217595, ..., 0.74274397, 0.85443044,\n",
       "         0.469761  ],\n",
       "        [0.7890441 , 0.29349124, 0.4332237 , ..., 0.22531688, 0.13641207,\n",
       "         0.955273  ],\n",
       "        ...,\n",
       "        [0.08417109, 0.47016835, 0.9377146 , ..., 0.82218635, 0.58684355,\n",
       "         0.44834593],\n",
       "        [0.15103178, 0.53963864, 0.3386973 , ..., 0.9789423 , 0.16320346,\n",
       "         0.75033426],\n",
       "        [0.9836441 , 0.8263102 , 0.97352153, ..., 0.9199377 , 0.65910494,\n",
       "         0.63731635]], dtype=float32),)]"
      ]
     },
     "execution_count": 18,
     "metadata": {
      "tags": []
     },
     "output_type": "execute_result"
    }
   ],
   "source": [
    "X_on_disk_as_items[0,1]"
   ]
  },
  {
   "cell_type": "markdown",
   "metadata": {
    "colab_type": "text",
    "hidden": true,
    "id": "CCirERmarEoE"
   },
   "source": [
    "You can also itemify several items at once: X and y for example. When you slice the list, you'll get tuples."
   ]
  },
  {
   "cell_type": "code",
   "execution_count": 0,
   "metadata": {
    "ExecuteTime": {
     "end_time": "2020-03-20T17:40:00.772946Z",
     "start_time": "2020-03-20T17:39:58.836206Z"
    },
    "colab": {},
    "colab_type": "code",
    "hidden": true,
    "id": "CjHUUEfdrEoG"
   },
   "outputs": [],
   "source": [
    "Xy_on_disk_as_items = itemify(X_on_disk, y_on_disk)"
   ]
  },
  {
   "cell_type": "code",
   "execution_count": 0,
   "metadata": {
    "ExecuteTime": {
     "end_time": "2020-03-20T17:40:11.318433Z",
     "start_time": "2020-03-20T17:40:11.258400Z"
    },
    "colab": {},
    "colab_type": "code",
    "hidden": true,
    "id": "9el77U5irEoN",
    "outputId": "25ae55d0-1738-4305-afea-1f5dee11c041"
   },
   "outputs": [
    {
     "data": {
      "text/plain": [
       "(#2) [(memmap([[0.2626543 , 0.81090355, 0.32464218, ..., 0.23839498, 0.67757344,\n",
       "         0.3310132 ],\n",
       "        [0.7845197 , 0.68123066, 0.38421404, ..., 0.5383686 , 0.01147997,\n",
       "         0.13235402],\n",
       "        [0.6679299 , 0.56707335, 0.02308166, ..., 0.77351165, 0.20462573,\n",
       "         0.9898304 ],\n",
       "        ...,\n",
       "        [0.38630033, 0.5770135 , 0.18095827, ..., 0.9798217 , 0.56657016,\n",
       "         0.6018766 ],\n",
       "        [0.09030128, 0.01747155, 0.5882474 , ..., 0.28344667, 0.6954193 ,\n",
       "         0.93599343],\n",
       "        [0.91863537, 0.01252496, 0.4146458 , ..., 0.80348647, 0.9133351 ,\n",
       "         0.5418618 ]], dtype=float32), 'b'),(memmap([[0.7720094 , 0.21011464, 0.02604653, ..., 0.8257726 , 0.9297855 ,\n",
       "         0.34065437],\n",
       "        [0.7020411 , 0.7310075 , 0.00217595, ..., 0.74274397, 0.85443044,\n",
       "         0.469761  ],\n",
       "        [0.7890441 , 0.29349124, 0.4332237 , ..., 0.22531688, 0.13641207,\n",
       "         0.955273  ],\n",
       "        ...,\n",
       "        [0.08417109, 0.47016835, 0.9377146 , ..., 0.82218635, 0.58684355,\n",
       "         0.44834593],\n",
       "        [0.15103178, 0.53963864, 0.3386973 , ..., 0.9789423 , 0.16320346,\n",
       "         0.75033426],\n",
       "        [0.9836441 , 0.8263102 , 0.97352153, ..., 0.9199377 , 0.65910494,\n",
       "         0.63731635]], dtype=float32), 'b')]"
      ]
     },
     "execution_count": 43,
     "metadata": {
      "tags": []
     },
     "output_type": "execute_result"
    }
   ],
   "source": [
    "Xy_on_disk_as_items[0, 1]"
   ]
  },
  {
   "cell_type": "markdown",
   "metadata": {
    "colab_type": "text",
    "hidden": true,
    "id": "TvDzO6EyrEoV"
   },
   "source": [
    "Slicing is very fast, even if there are 100.000 samples."
   ]
  },
  {
   "cell_type": "code",
   "execution_count": 0,
   "metadata": {
    "ExecuteTime": {
     "end_time": "2020-03-19T16:54:56.260086Z",
     "start_time": "2020-03-19T16:54:46.840861Z"
    },
    "colab": {},
    "colab_type": "code",
    "hidden": true,
    "id": "P5963Zv6rEoW",
    "outputId": "47b5d7e8-ba31-4197-b9dc-e51821405509"
   },
   "outputs": [
    {
     "name": "stdout",
     "output_type": "stream",
     "text": [
      "11.5 µs ± 956 ns per loop (mean ± std. dev. of 7 runs, 100000 loops each)\n"
     ]
    }
   ],
   "source": [
    "# axis 0\n",
    "%timeit X_on_disk[0]"
   ]
  },
  {
   "cell_type": "code",
   "execution_count": 0,
   "metadata": {
    "ExecuteTime": {
     "end_time": "2020-03-19T16:54:57.749455Z",
     "start_time": "2020-03-19T16:54:56.273687Z"
    },
    "colab": {},
    "colab_type": "code",
    "hidden": true,
    "id": "v7j5McgxrEof",
    "outputId": "c9554dcc-319c-4416-e09a-184d72c2b60f"
   },
   "outputs": [
    {
     "name": "stdout",
     "output_type": "stream",
     "text": [
      "16.2 µs ± 3.87 µs per loop (mean ± std. dev. of 7 runs, 10000 loops each)\n"
     ]
    }
   ],
   "source": [
    "# axis 1\n",
    "%timeit X_on_disk[..., 0]"
   ]
  },
  {
   "cell_type": "code",
   "execution_count": 0,
   "metadata": {
    "ExecuteTime": {
     "end_time": "2020-03-19T16:54:59.113082Z",
     "start_time": "2020-03-19T16:54:57.770243Z"
    },
    "colab": {},
    "colab_type": "code",
    "hidden": true,
    "id": "JVcctkAJrEon",
    "outputId": "c9e38edf-86ba-4bba-9c3f-a171e1d67ed9"
   },
   "outputs": [
    {
     "name": "stdout",
     "output_type": "stream",
     "text": [
      "14.6 µs ± 3.78 µs per loop (mean ± std. dev. of 7 runs, 10000 loops each)\n"
     ]
    }
   ],
   "source": [
    "# axis 2\n",
    "%timeit X_on_disk[:, 0]"
   ]
  },
  {
   "cell_type": "code",
   "execution_count": 0,
   "metadata": {
    "ExecuteTime": {
     "end_time": "2020-03-19T16:55:10.115460Z",
     "start_time": "2020-03-19T16:54:59.119523Z"
    },
    "colab": {},
    "colab_type": "code",
    "hidden": true,
    "id": "LtAejlbdrEov",
    "outputId": "59a9cd0a-9ab9-44e0-ed9f-276ad5d249ea"
   },
   "outputs": [
    {
     "name": "stdout",
     "output_type": "stream",
     "text": [
      "13.5 µs ± 983 ns per loop (mean ± std. dev. of 7 runs, 100000 loops each)\n"
     ]
    }
   ],
   "source": [
    "# aixs 0,1\n",
    "%timeit X_on_disk[0, 0]"
   ]
  },
  {
   "cell_type": "markdown",
   "metadata": {
    "colab_type": "text",
    "hidden": true,
    "id": "KcoAK8RFrEo3"
   },
   "source": [
    "To compare how fast you can slice a np.memmap, let's create a smaller array that I can fit in memory (X_in_memory). This is 10 times smaller (100 MB) than the one on disk."
   ]
  },
  {
   "cell_type": "code",
   "execution_count": 0,
   "metadata": {
    "ExecuteTime": {
     "end_time": "2020-03-19T16:55:21.191855Z",
     "start_time": "2020-03-19T16:55:10.122970Z"
    },
    "colab": {},
    "colab_type": "code",
    "hidden": true,
    "id": "EWv_K4A9rEo4"
   },
   "outputs": [],
   "source": [
    "X_in_memory_small = np.random.rand(10000, 50, 512)"
   ]
  },
  {
   "cell_type": "code",
   "execution_count": 0,
   "metadata": {
    "ExecuteTime": {
     "end_time": "2020-03-19T16:55:26.636353Z",
     "start_time": "2020-03-19T16:55:21.203277Z"
    },
    "colab": {},
    "colab_type": "code",
    "hidden": true,
    "id": "_8ZuH-47rEpB",
    "outputId": "5d731bfd-7b52-4eb7-d2ad-d6054f72651b"
   },
   "outputs": [
    {
     "name": "stdout",
     "output_type": "stream",
     "text": [
      "661 ns ± 28.4 ns per loop (mean ± std. dev. of 7 runs, 1000000 loops each)\n"
     ]
    }
   ],
   "source": [
    "%timeit X_in_memory_small[0]"
   ]
  },
  {
   "cell_type": "markdown",
   "metadata": {
    "colab_type": "text",
    "hidden": true,
    "id": "ZSsJE37ArEpI"
   },
   "source": [
    "Let's create the same array on disk. It's super simple:"
   ]
  },
  {
   "cell_type": "code",
   "execution_count": 0,
   "metadata": {
    "ExecuteTime": {
     "end_time": "2020-03-19T16:59:35.746257Z",
     "start_time": "2020-03-19T16:59:35.638666Z"
    },
    "colab": {},
    "colab_type": "code",
    "hidden": true,
    "id": "KeGko-ITrEpJ"
   },
   "outputs": [],
   "source": [
    "np.save('./data/X_on_disk_small.npy', X_in_memory_small)\n",
    "X_on_disk_small = np.load('./data/X_on_disk_small.npy', mmap_mode='r')"
   ]
  },
  {
   "cell_type": "code",
   "execution_count": 0,
   "metadata": {
    "ExecuteTime": {
     "end_time": "2020-03-19T16:56:08.216337Z",
     "start_time": "2020-03-19T16:55:58.723283Z"
    },
    "colab": {},
    "colab_type": "code",
    "hidden": true,
    "id": "Pn0n7qyfrEpQ",
    "outputId": "f6ce2000-fd9e-4354-b723-11970a5f5bd5"
   },
   "outputs": [
    {
     "name": "stdout",
     "output_type": "stream",
     "text": [
      "11.7 µs ± 515 ns per loop (mean ± std. dev. of 7 runs, 100000 loops each)\n"
     ]
    }
   ],
   "source": [
    "%timeit X_on_disk_small[0]"
   ]
  },
  {
   "cell_type": "markdown",
   "metadata": {
    "colab_type": "text",
    "hidden": true,
    "id": "GNKn1ZDLrEpX"
   },
   "source": [
    "This is approx. 17 slower than having arrays on disk, although it's still pretty fast.\n",
    "\n",
    "However, if we use the itemified version, it's much faster:"
   ]
  },
  {
   "cell_type": "code",
   "execution_count": 0,
   "metadata": {
    "ExecuteTime": {
     "end_time": "2020-03-19T16:56:10.208204Z",
     "start_time": "2020-03-19T16:56:08.222227Z"
    },
    "colab": {},
    "colab_type": "code",
    "hidden": true,
    "id": "5ZbhCDwvrEpY",
    "outputId": "fb151d2a-d675-4ed1-89ac-232129331acf"
   },
   "outputs": [
    {
     "name": "stdout",
     "output_type": "stream",
     "text": [
      "2.39 µs ± 90.5 ns per loop (mean ± std. dev. of 7 runs, 100000 loops each)\n"
     ]
    }
   ],
   "source": [
    "%timeit X_on_disk_as_items[0]"
   ]
  },
  {
   "cell_type": "markdown",
   "metadata": {
    "colab_type": "text",
    "hidden": true,
    "id": "Z8TV_n2prEpg"
   },
   "source": [
    "This is much better! So now you can access 1 of multiple items on disk with a pretty good performance."
   ]
  },
  {
   "cell_type": "markdown",
   "metadata": {
    "colab_type": "text",
    "hidden": true,
    "id": "ruK4tET0rEpj"
   },
   "source": [
    "#### Calculating stats: mean and std"
   ]
  },
  {
   "cell_type": "markdown",
   "metadata": {
    "colab_type": "text",
    "hidden": true,
    "id": "rVA8MDfhrEpl"
   },
   "source": [
    "Another benefit of using arrays on disk is that you can calculate the mean and std deviation of the entire dataset. \n",
    "\n",
    "It takes a considerable time since the array is very big (10GB), but it's feasible:\n",
    "\n",
    "- mean (0.4999966):  1 min 45 s\n",
    "- std  (0.2886839): 11 min 43 s \n",
    "\n",
    "in my laptop. \n",
    "If you need them, you could calculate these stats once, and store the results (similar to ImageNet stats).\n",
    "However, you usually need to claculate these metrics for labeled (train) datasets, that tend to be smaller."
   ]
  },
  {
   "cell_type": "code",
   "execution_count": 0,
   "metadata": {
    "colab": {},
    "colab_type": "code",
    "hidden": true,
    "id": "z_TcBSg9rEpn",
    "outputId": "70ca0b22-29ba-4978-96c0-9061addd468a"
   },
   "outputs": [
    {
     "data": {
      "text/plain": [
       "0.4999966"
      ]
     },
     "execution_count": 85,
     "metadata": {
      "tags": []
     },
     "output_type": "execute_result"
    }
   ],
   "source": [
    "# X_mean = X_on_disk.mean()\n",
    "# X_mean"
   ]
  },
  {
   "cell_type": "code",
   "execution_count": 0,
   "metadata": {
    "colab": {},
    "colab_type": "code",
    "hidden": true,
    "id": "WnVrxtqorEpu",
    "outputId": "e94f16d9-5837-4f7e-f610-f0aa4b94b72e"
   },
   "outputs": [
    {
     "data": {
      "text/plain": [
       "0.28868386"
      ]
     },
     "execution_count": 86,
     "metadata": {
      "tags": []
     },
     "output_type": "execute_result"
    }
   ],
   "source": [
    "# X_std = X_on_disk.std()\n",
    "# X_std"
   ]
  },
  {
   "cell_type": "markdown",
   "metadata": {
    "colab_type": "text",
    "hidden": true,
    "id": "v5SCxkElrEp3"
   },
   "source": [
    "#### Conversion into a tensor"
   ]
  },
  {
   "cell_type": "markdown",
   "metadata": {
    "colab_type": "text",
    "hidden": true,
    "id": "BPyHLzc-rEp5"
   },
   "source": [
    "Conversion from an array on disk slice into a tensor is also very fast:"
   ]
  },
  {
   "cell_type": "code",
   "execution_count": 0,
   "metadata": {
    "ExecuteTime": {
     "end_time": "2020-03-19T16:56:10.237308Z",
     "start_time": "2020-03-19T16:56:10.213607Z"
    },
    "colab": {},
    "colab_type": "code",
    "hidden": true,
    "id": "gle3dCBCrEp6",
    "outputId": "9b6b4cf5-7861-4e76-ef34-53ef84cac0c9"
   },
   "outputs": [
    {
     "data": {
      "text/plain": [
       "tensor([[0.2627, 0.8109, 0.3246,  ..., 0.2384, 0.6776, 0.3310],\n",
       "        [0.7845, 0.6812, 0.3842,  ..., 0.5384, 0.0115, 0.1324],\n",
       "        [0.6679, 0.5671, 0.0231,  ..., 0.7735, 0.2046, 0.9898],\n",
       "        ...,\n",
       "        [0.3863, 0.5770, 0.1810,  ..., 0.9798, 0.5666, 0.6019],\n",
       "        [0.0903, 0.0175, 0.5882,  ..., 0.2834, 0.6954, 0.9360],\n",
       "        [0.9186, 0.0125, 0.4146,  ..., 0.8035, 0.9133, 0.5419]])"
      ]
     },
     "execution_count": 28,
     "metadata": {
      "tags": []
     },
     "output_type": "execute_result"
    }
   ],
   "source": [
    "torch.from_numpy(X_on_disk[0])"
   ]
  },
  {
   "cell_type": "code",
   "execution_count": 0,
   "metadata": {
    "ExecuteTime": {
     "end_time": "2020-03-19T16:56:10.249381Z",
     "start_time": "2020-03-19T16:56:10.242636Z"
    },
    "colab": {},
    "colab_type": "code",
    "hidden": true,
    "id": "F7KPKY36rEqF"
   },
   "outputs": [],
   "source": [
    "X_on_disk_small_0 = X_on_disk_small[0]\n",
    "X_in_memory_small_0 = X_in_memory_small[0]"
   ]
  },
  {
   "cell_type": "code",
   "execution_count": 0,
   "metadata": {
    "ExecuteTime": {
     "end_time": "2020-03-19T16:56:18.086819Z",
     "start_time": "2020-03-19T16:56:10.256510Z"
    },
    "colab": {},
    "colab_type": "code",
    "hidden": true,
    "id": "TIm7L3J3rEqN",
    "outputId": "6a292ec4-2be7-441e-96d7-673fae99710d"
   },
   "outputs": [
    {
     "name": "stdout",
     "output_type": "stream",
     "text": [
      "9.54 µs ± 25.7 ns per loop (mean ± std. dev. of 7 runs, 100000 loops each)\n"
     ]
    }
   ],
   "source": [
    "%timeit torch.from_numpy(X_on_disk_small_0)"
   ]
  },
  {
   "cell_type": "code",
   "execution_count": 0,
   "metadata": {
    "ExecuteTime": {
     "end_time": "2020-03-19T16:56:25.940782Z",
     "start_time": "2020-03-19T16:56:18.092488Z"
    },
    "colab": {},
    "colab_type": "code",
    "hidden": true,
    "id": "tDbcscrkrEqa",
    "outputId": "131c66b1-04b9-4959-9cbd-a005d484925f"
   },
   "outputs": [
    {
     "name": "stdout",
     "output_type": "stream",
     "text": [
      "9.66 µs ± 418 ns per loop (mean ± std. dev. of 7 runs, 100000 loops each)\n"
     ]
    }
   ],
   "source": [
    "%timeit torch.from_numpy(X_in_memory_small_0 )"
   ]
  },
  {
   "cell_type": "markdown",
   "metadata": {
    "colab_type": "text",
    "hidden": true,
    "id": "dZrer2g_rEqh"
   },
   "source": [
    "So it takes the same time to convert from numpy.memmap or from a np.array in memory is the same."
   ]
  },
  {
   "cell_type": "markdown",
   "metadata": {
    "colab_type": "text",
    "hidden": true,
    "id": "QRxLvTA-rEqj"
   },
   "source": [
    "#### Combined operations: slicing plus conversion to tensor"
   ]
  },
  {
   "cell_type": "markdown",
   "metadata": {
    "colab_type": "text",
    "hidden": true,
    "id": "RWxLCweXrEqk"
   },
   "source": [
    "Let's now check performance of the combined process: slicing plus conversion to a tensor. Based on what we've seen there are 3 options: \n",
    "\n",
    "- slice np.array in memory + conversion to tensor\n",
    "- slice np.memamap on disk + conversion to tensor\n",
    "- slice itemified np.memmap + converion to tensor"
   ]
  },
  {
   "cell_type": "code",
   "execution_count": 0,
   "metadata": {
    "ExecuteTime": {
     "end_time": "2020-03-19T16:56:39.447052Z",
     "start_time": "2020-03-19T16:56:25.946387Z"
    },
    "colab": {},
    "colab_type": "code",
    "hidden": true,
    "id": "1cfxU07xrEql",
    "outputId": "42b7559a-4f51-4556-b9ae-623c3ebb3928"
   },
   "outputs": [
    {
     "name": "stdout",
     "output_type": "stream",
     "text": [
      "17 µs ± 4.3 µs per loop (mean ± std. dev. of 7 runs, 100000 loops each)\n"
     ]
    }
   ],
   "source": [
    "%timeit torch.from_numpy(X_in_memory_small[0])"
   ]
  },
  {
   "cell_type": "code",
   "execution_count": 0,
   "metadata": {
    "ExecuteTime": {
     "end_time": "2020-03-19T16:56:42.699985Z",
     "start_time": "2020-03-19T16:56:39.455853Z"
    },
    "colab": {},
    "colab_type": "code",
    "hidden": true,
    "id": "5-ThwPEUrEqt",
    "outputId": "3149c62c-e567-4268-f5f7-4003898a6a71"
   },
   "outputs": [
    {
     "name": "stdout",
     "output_type": "stream",
     "text": [
      "38.2 µs ± 6.91 µs per loop (mean ± std. dev. of 7 runs, 10000 loops each)\n"
     ]
    }
   ],
   "source": [
    "%timeit torch.from_numpy(X_on_disk_small[0])"
   ]
  },
  {
   "cell_type": "code",
   "execution_count": 0,
   "metadata": {
    "ExecuteTime": {
     "end_time": "2020-03-19T16:56:43.510602Z",
     "start_time": "2020-03-19T16:56:42.706355Z"
    },
    "colab": {},
    "colab_type": "code",
    "hidden": true,
    "id": "IH23iQlerEq0"
   },
   "outputs": [],
   "source": [
    "X_on_disk_small_as_items = itemify(X_on_disk_small)"
   ]
  },
  {
   "cell_type": "code",
   "execution_count": 0,
   "metadata": {
    "ExecuteTime": {
     "end_time": "2020-03-19T16:56:45.166160Z",
     "start_time": "2020-03-19T16:56:43.515835Z"
    },
    "colab": {},
    "colab_type": "code",
    "hidden": true,
    "id": "PtMYAT2LrEq8",
    "outputId": "b92bcf63-3679-4e78-8cff-715366bf12e7"
   },
   "outputs": [
    {
     "name": "stdout",
     "output_type": "stream",
     "text": [
      "19.6 µs ± 2.57 µs per loop (mean ± std. dev. of 7 runs, 10000 loops each)\n"
     ]
    }
   ],
   "source": [
    "%timeit torch.from_numpy(X_on_disk_small_as_items[0][0])"
   ]
  },
  {
   "cell_type": "markdown",
   "metadata": {
    "colab_type": "text",
    "hidden": true,
    "id": "8oBpcpTNrErB"
   },
   "source": [
    "So this last method is **almost as fast as having the array in memory**!! This is an excellent outcome, since slicing arrays in memory is a highly optimized operation. \n",
    "\n",
    "And we have the benefit of having access to very large datasets if needed."
   ]
  },
  {
   "cell_type": "markdown",
   "metadata": {
    "colab_type": "text",
    "heading_collapsed": true,
    "id": "c1vSEBd-rErD"
   },
   "source": [
    "## Summary"
   ]
  },
  {
   "cell_type": "markdown",
   "metadata": {
    "colab_type": "text",
    "hidden": true,
    "id": "01SIAKb0rErE"
   },
   "source": [
    "We now have a very efficient way to work with very large numpy arrays.\n",
    "\n",
    "The process is very simple:\n",
    "\n",
    "- create and save the array on disk (as described before)\n",
    "- load it with a mmap_mode='r'\n",
    "- itemify the array/s\n",
    "\n",
    "So my recommendation would be:\n",
    "\n",
    "- use numpy arrays in memory when possible (if your data fits in memory)\n",
    "- use numpy memmap (arrays on disk) when data doesn't fit. You will still have a great performance."
   ]
  }
 ],
 "metadata": {
  "colab": {
   "include_colab_link": true,
   "name": "00_How_to_efficiently_work_with_very_large_numpy_arrays.ipynb",
   "provenance": []
  },
  "kernelspec": {
   "display_name": "Python [conda env:new_tsai]",
   "language": "python",
   "name": "conda-env-new_tsai-py"
  },
  "language_info": {
   "codemirror_mode": {
    "name": "ipython",
    "version": 3
   },
   "file_extension": ".py",
   "mimetype": "text/x-python",
   "name": "python",
   "nbconvert_exporter": "python",
   "pygments_lexer": "ipython3",
   "version": "3.7.9"
  },
  "toc": {
   "base_numbering": 1,
   "nav_menu": {},
   "number_sections": true,
   "sideBar": true,
   "skip_h1_title": false,
   "title_cell": "Table of Contents",
   "title_sidebar": "Contents",
   "toc_cell": false,
   "toc_position": {},
   "toc_section_display": true,
   "toc_window_display": false
  }
 },
 "nbformat": 4,
 "nbformat_minor": 1
}
