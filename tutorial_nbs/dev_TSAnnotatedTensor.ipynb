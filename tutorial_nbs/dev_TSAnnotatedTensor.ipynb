{
 "cells": [
  {
   "cell_type": "markdown",
   "metadata": {},
   "source": [
    "# TSAnnotatedTensor"
   ]
  },
  {
   "cell_type": "code",
   "execution_count": 1,
   "metadata": {},
   "outputs": [],
   "source": [
    "%reload_ext autoreload\n",
    "%autoreload 2\n",
    "%matplotlib inline"
   ]
  },
  {
   "cell_type": "code",
   "execution_count": 2,
   "metadata": {},
   "outputs": [
    {
     "name": "stdout",
     "output_type": "stream",
     "text": [
      "base_dir: /media/big_ssd/doug/Documents/GitHub/NonPatch\n",
      "added path: /media/big_ssd/doug/Documents/GitHub/NonPatch/src\n",
      "added path: /media/big_ssd/doug/Documents/GitHub/NonPatch/src/contrib\n"
     ]
    }
   ],
   "source": [
    "from config import *"
   ]
  },
  {
   "cell_type": "code",
   "execution_count": 3,
   "metadata": {},
   "outputs": [
    {
     "name": "stderr",
     "output_type": "stream",
     "text": [
      "/home/doug/anaconda3/envs/tsai2/lib/python3.8/site-packages/torch/cuda/__init__.py:52: UserWarning: CUDA initialization: CUDA unknown error - this may be due to an incorrectly set up environment, e.g. changing env variable CUDA_VISIBLE_DEVICES after program start. Setting the available devices to be zero. (Triggered internally at  /opt/conda/conda-bld/pytorch_1603729062494/work/c10/cuda/CUDAFunctions.cpp:100.)\n",
      "  return torch._C._cuda_getDeviceCount() > 0\n"
     ]
    },
    {
     "name": "stdout",
     "output_type": "stream",
     "text": [
      "tsai       : 0.2.16\n",
      "fastai     : 2.2.7\n",
      "fastcore   : 1.3.19\n",
      "torch      : 1.7.0\n"
     ]
    }
   ],
   "source": [
    "import tsai\n",
    "from tsai.all import *\n",
    "print('tsai       :', tsai.__version__)\n",
    "print('fastai     :', fastai.__version__)\n",
    "print('fastcore   :', fastcore.__version__)\n",
    "print('torch      :', torch.__version__)"
   ]
  },
  {
   "cell_type": "markdown",
   "metadata": {},
   "source": [
    "# Code"
   ]
  },
  {
   "cell_type": "code",
   "execution_count": 4,
   "metadata": {},
   "outputs": [],
   "source": [
    "class TSAnnotatedTensor(TSTensor):\n",
    "    def __init__(self, *args,ann=[], **kwargs):\n",
    "        TSTensor.__init__(*args, **kwargs)\n",
    "        self.ann = ann\n",
    "        \n",
    "    def __repr__(self):\n",
    "        if self.numel() == 1: return f'{self}'\n",
    "        elif self.ndim >= 3:\n",
    "            return f'TSAnnTensor(samples:{self.shape[-3]}, vars:{self.shape[-2]}, len:{self.shape[-1]}, ann:{len(self.ann)})'\n",
    "        elif self.ndim == 2:\n",
    "            return f'TSAnnTensor(vars:{self.shape[-2]}, len:{self.shape[-1]}, ann:{len(self.ann)})'\n",
    "        elif self.ndim == 1:\n",
    "            return f'TSAnnTensor(len:{self.shape[-1]}, ann:{len(self.ann)})'"
   ]
  },
  {
   "cell_type": "code",
   "execution_count": 5,
   "metadata": {},
   "outputs": [],
   "source": [
    "class TSAnnotatedDataset(TSDataset):\n",
    "    def __init__(self, X, y=None, types=None, sel_vars=None, sel_steps=None, anns=None):\n",
    "        assert types is None or types[0] == TSAnnotatedTensor\n",
    "        self.X, self.y, self.types, self.anns = to3darray(X), y, types, anns\n",
    "        self.sel_vars = ifnone(sel_vars, slice(None))\n",
    "        self.sel_steps = ifnone(sel_steps,slice(None))\n",
    "        \n",
    "        self.first = True\n",
    "        \n",
    "    def __getitem__(self, idx):\n",
    "        \n",
    "        if self.first:\n",
    "            self.first = False\n",
    "            print('idx', idx, 'anns', self.anns)\n",
    "            #print('self.sel_vars, self.sel_steps', self.sel_vars, self.sel_steps)\n",
    "        \n",
    "        a = self.anns[idx] if self.anns is not None else []\n",
    "        \n",
    "        _x = TSAnnotatedTensor(self.X[idx, self.sel_vars, self.sel_steps], ann=a)\n",
    "        if self.types is None or self.y is None:\n",
    "            return (_x, self.y[idx]) if self.y is not None else (_x)\n",
    "        else:\n",
    "            return (_x, self.types[1](self.y[idx])) if self.y is not None else (_x)"
   ]
  },
  {
   "cell_type": "markdown",
   "metadata": {},
   "source": [
    "# Analysis"
   ]
  },
  {
   "cell_type": "markdown",
   "metadata": {},
   "source": [
    "## Test TSAnnotatedTensor"
   ]
  },
  {
   "cell_type": "code",
   "execution_count": 6,
   "metadata": {},
   "outputs": [
    {
     "data": {
      "text/plain": [
       "(TSAnnTensor(vars:2, len:5, ann:2),\n",
       " tensor([[0, 1, 2, 3, 4],\n",
       "         [5, 6, 7, 8, 9]]),\n",
       " [3, 5])"
      ]
     },
     "execution_count": 6,
     "metadata": {},
     "output_type": "execute_result"
    }
   ],
   "source": [
    "inp = np.arange(10).reshape((2, 5))\n",
    "a = TSAnnotatedTensor(inp, ann=[3,5])\n",
    "a, a.data, a.ann"
   ]
  },
  {
   "cell_type": "code",
   "execution_count": 7,
   "metadata": {},
   "outputs": [
    {
     "data": {
      "text/plain": [
       "(TSAnnTensor(vars:1, len:10, ann:2),\n",
       " tensor([[0, 1, 2, 3, 4, 5, 6, 7, 8, 9]]),\n",
       " [3, 5])"
      ]
     },
     "execution_count": 7,
     "metadata": {},
     "output_type": "execute_result"
    }
   ],
   "source": [
    "inp = np.arange(10).reshape((1, 10))\n",
    "a = TSAnnotatedTensor(inp, ann=[3,5])\n",
    "a, a.data, a.ann"
   ]
  },
  {
   "cell_type": "code",
   "execution_count": 8,
   "metadata": {},
   "outputs": [
    {
     "data": {
      "text/plain": [
       "(10, 1)"
      ]
     },
     "execution_count": 8,
     "metadata": {},
     "output_type": "execute_result"
    }
   ],
   "source": [
    "a.len, a.vars"
   ]
  },
  {
   "cell_type": "code",
   "execution_count": 9,
   "metadata": {},
   "outputs": [],
   "source": [
    "y = [True, False]*5"
   ]
  },
  {
   "cell_type": "code",
   "execution_count": 10,
   "metadata": {},
   "outputs": [],
   "source": [
    "X = np.arange(100).reshape((10,2, 5))"
   ]
  },
  {
   "cell_type": "code",
   "execution_count": 11,
   "metadata": {},
   "outputs": [],
   "source": [
    "ds = TSDataset(X, y, types=[TSAnnotatedTensor, NumpyTensor])"
   ]
  },
  {
   "cell_type": "code",
   "execution_count": 12,
   "metadata": {},
   "outputs": [
    {
     "data": {
      "text/plain": [
       "TSAnnTensor(vars:2, len:5, ann:0)"
      ]
     },
     "execution_count": 12,
     "metadata": {},
     "output_type": "execute_result"
    }
   ],
   "source": [
    "ds[0][0]"
   ]
  },
  {
   "cell_type": "code",
   "execution_count": 13,
   "metadata": {},
   "outputs": [
    {
     "data": {
      "text/plain": [
       "(True, tsai.data.core.NumpyTensor)"
      ]
     },
     "execution_count": 13,
     "metadata": {},
     "output_type": "execute_result"
    }
   ],
   "source": [
    "ds[0][1], type(ds[0][1])"
   ]
  },
  {
   "cell_type": "code",
   "execution_count": 14,
   "metadata": {},
   "outputs": [
    {
     "data": {
      "text/plain": [
       "(10, 2, 5)"
      ]
     },
     "execution_count": 14,
     "metadata": {},
     "output_type": "execute_result"
    }
   ],
   "source": [
    "x = np.arange(100).reshape((10,2, 5))\n",
    "x.shape"
   ]
  },
  {
   "cell_type": "markdown",
   "metadata": {},
   "source": [
    "## Test TSAnnotatedDataset"
   ]
  },
  {
   "cell_type": "code",
   "execution_count": 15,
   "metadata": {},
   "outputs": [
    {
     "name": "stdout",
     "output_type": "stream",
     "text": [
      "idx 0 anns [[1], [1], [1], [1], [1]]\n"
     ]
    },
    {
     "data": {
      "text/plain": [
       "(<__main__.TSAnnotatedDataset at 0x7efd4caa1400>,\n",
       " TSAnnTensor(vars:2, len:5, ann:1),\n",
       " tensor([[0, 1, 2, 3, 4],\n",
       "         [5, 6, 7, 8, 9]]))"
      ]
     },
     "execution_count": 15,
     "metadata": {},
     "output_type": "execute_result"
    }
   ],
   "source": [
    "tsad = TSAnnotatedDataset(x, anns=[[1]]*5)\n",
    "tsad, tsad[0], tsad[0].data"
   ]
  },
  {
   "cell_type": "code",
   "execution_count": 16,
   "metadata": {},
   "outputs": [
    {
     "name": "stdout",
     "output_type": "stream",
     "text": [
      "idx 0 anns None\n"
     ]
    },
    {
     "data": {
      "text/plain": [
       "(<__main__.TSAnnotatedDataset at 0x7efd4caa1700>,\n",
       " TSAnnTensor(vars:2, len:5, ann:0))"
      ]
     },
     "execution_count": 16,
     "metadata": {},
     "output_type": "execute_result"
    }
   ],
   "source": [
    "tsad = TSAnnotatedDataset(x)\n",
    "tsad, tsad[0], #tsad[0].data"
   ]
  },
  {
   "cell_type": "markdown",
   "metadata": {},
   "source": [
    "### Try on something larger"
   ]
  },
  {
   "cell_type": "code",
   "execution_count": 17,
   "metadata": {},
   "outputs": [
    {
     "name": "stdout",
     "output_type": "stream",
     "text": [
      "Dataset: StarLightCurves\n",
      "X_train: (1000, 1, 1024)\n",
      "y_train: (1000,)\n",
      "X_valid: (8236, 1, 1024)\n",
      "y_valid: (8236,) \n",
      "\n"
     ]
    }
   ],
   "source": [
    "dsid = 'StarLightCurves'\n",
    "X_train, y_train, X_valid, y_valid = get_UCR_data(dsid, parent_dir='./data/UCR/', verbose=True, on_disk=False)"
   ]
  },
  {
   "cell_type": "markdown",
   "metadata": {},
   "source": [
    "#### Reference: TSDataset"
   ]
  },
  {
   "cell_type": "code",
   "execution_count": 18,
   "metadata": {},
   "outputs": [
    {
     "name": "stdout",
     "output_type": "stream",
     "text": [
      "TSTensor(samples:128, vars:1, len:1024) TensorCategory([1, 2, 2, 0, 1, 2, 2, 2, 1, 2, 2, 2, 2, 2, 2, 0, 2, 2, 2, 0, 0, 2, 2, 2,\n",
      "        1, 0, 2, 0, 2, 1, 2, 2, 1, 2, 1, 1, 1, 1, 1, 2, 2, 0, 2, 2, 1, 0, 0, 2,\n",
      "        2, 2, 2, 1, 0, 0, 2, 2, 2, 2, 2, 2, 0, 0, 1, 2, 2, 1, 2, 2, 2, 0, 0, 2,\n",
      "        1, 1, 1, 2, 2, 1, 1, 1, 1, 2, 2, 2, 2, 2, 1, 1, 2, 1, 2, 2, 0, 2, 0, 2,\n",
      "        2, 2, 2, 2, 2, 2, 1, 1, 1, 2, 2, 2, 1, 0, 2, 2, 0, 2, 2, 1, 2, 1, 2, 2,\n",
      "        2, 2, 2, 2, 1, 2, 2, 0])\n",
      "shape: 1000         bs: (128, 1, 1024)\n",
      "593 ms ± 4.34 ms per loop (mean ± std. dev. of 7 runs, 1 loop each)\n"
     ]
    }
   ],
   "source": [
    "train_ds = TSDataset(np.array(X_train), np.array(y_train).astype(int) - 1, types=(TSTensor, TensorCategory))\n",
    "train_dl = DataLoader(train_ds, bs=128, num_workers=0)\n",
    "valid_ds = TSDataset(np.array(X_valid), np.array(y_valid).astype(int) - 1, types=(TSTensor, TensorCategory))\n",
    "valid_dl = DataLoader(valid_ds, bs=128, num_workers=0)\n",
    "dls      = DataLoaders(train_dl, valid_dl, device=default_device())\n",
    "xb,yb = next(iter(dls.valid))\n",
    "print(xb, yb)\n",
    "print(f'shape: {str(len(train_ds)):10}   bs: {xb.shape}')\n",
    "%timeit cycle_dl(dls.valid)"
   ]
  },
  {
   "cell_type": "markdown",
   "metadata": {},
   "source": [
    "#### Try using TSAnnotatedDataset"
   ]
  },
  {
   "cell_type": "code",
   "execution_count": 19,
   "metadata": {},
   "outputs": [
    {
     "name": "stdout",
     "output_type": "stream",
     "text": [
      "idx 0 anns None\n",
      "TSAnnTensor(samples:128, vars:1, len:1024, ann:0) TensorCategory([1, 2, 2, 0, 1, 2, 2, 2, 1, 2, 2, 2, 2, 2, 2, 0, 2, 2, 2, 0, 0, 2, 2, 2,\n",
      "        1, 0, 2, 0, 2, 1, 2, 2, 1, 2, 1, 1, 1, 1, 1, 2, 2, 0, 2, 2, 1, 0, 0, 2,\n",
      "        2, 2, 2, 1, 0, 0, 2, 2, 2, 2, 2, 2, 0, 0, 1, 2, 2, 1, 2, 2, 2, 0, 0, 2,\n",
      "        1, 1, 1, 2, 2, 1, 1, 1, 1, 2, 2, 2, 2, 2, 1, 1, 2, 1, 2, 2, 0, 2, 0, 2,\n",
      "        2, 2, 2, 2, 2, 2, 1, 1, 1, 2, 2, 2, 1, 0, 2, 2, 0, 2, 2, 1, 2, 1, 2, 2,\n",
      "        2, 2, 2, 2, 1, 2, 2, 0])\n",
      "shape: 1000         bs: (128, 1, 1024)\n",
      "611 ms ± 4.05 ms per loop (mean ± std. dev. of 7 runs, 1 loop each)\n"
     ]
    }
   ],
   "source": [
    "train_ds = TSAnnotatedDataset(np.array(X_train), np.array(y_train).astype(int) - 1, types=(TSAnnotatedTensor, TensorCategory))\n",
    "train_dl = DataLoader(train_ds, bs=128, num_workers=0)\n",
    "valid_ds = TSAnnotatedDataset(np.array(X_valid), np.array(y_valid).astype(int) - 1, types=(TSAnnotatedTensor, TensorCategory))\n",
    "valid_dl = DataLoader(valid_ds, bs=128, num_workers=0)\n",
    "dls      = DataLoaders(train_dl, valid_dl, device=default_device())\n",
    "xb,yb = next(iter(dls.valid))\n",
    "print(xb, yb)\n",
    "print(f'shape: {str(len(train_ds)):10}   bs: {xb.shape}')\n",
    "%timeit cycle_dl(dls.valid)"
   ]
  },
  {
   "cell_type": "markdown",
   "metadata": {},
   "source": [
    "#### Add positions"
   ]
  },
  {
   "cell_type": "code",
   "execution_count": 20,
   "metadata": {},
   "outputs": [],
   "source": [
    "def get_dummy_annotations(X, window_size=50, n_pos=4):\n",
    "    return np.random.randint(window_size//2, X.shape[-1]-window_size//2, size=(len(X), n_pos))"
   ]
  },
  {
   "cell_type": "code",
   "execution_count": 21,
   "metadata": {},
   "outputs": [
    {
     "data": {
      "text/plain": [
       "((1000, 4), (8236, 4))"
      ]
     },
     "execution_count": 21,
     "metadata": {},
     "output_type": "execute_result"
    }
   ],
   "source": [
    "ann_train = get_dummy_annotations(X_train)\n",
    "ann_valid = get_dummy_annotations(X_valid)\n",
    "ann_train.shape, ann_valid.shape"
   ]
  },
  {
   "cell_type": "code",
   "execution_count": 22,
   "metadata": {},
   "outputs": [
    {
     "name": "stdout",
     "output_type": "stream",
     "text": [
      "idx 0 anns [[218  94 108 945]\n",
      " [624 773 672 835]\n",
      " [975 458 232 458]\n",
      " ...\n",
      " [229 233 911 681]\n",
      " [293 748 281 847]\n",
      " [280 650 669 167]]\n",
      "TSAnnTensor(samples:128, vars:1, len:1024, ann:4) TensorCategory([1, 2, 2, 0, 1, 2, 2, 2, 1, 2, 2, 2, 2, 2, 2, 0, 2, 2, 2, 0, 0, 2, 2, 2,\n",
      "        1, 0, 2, 0, 2, 1, 2, 2, 1, 2, 1, 1, 1, 1, 1, 2, 2, 0, 2, 2, 1, 0, 0, 2,\n",
      "        2, 2, 2, 1, 0, 0, 2, 2, 2, 2, 2, 2, 0, 0, 1, 2, 2, 1, 2, 2, 2, 0, 0, 2,\n",
      "        1, 1, 1, 2, 2, 1, 1, 1, 1, 2, 2, 2, 2, 2, 1, 1, 2, 1, 2, 2, 0, 2, 0, 2,\n",
      "        2, 2, 2, 2, 2, 2, 1, 1, 1, 2, 2, 2, 1, 0, 2, 2, 0, 2, 2, 1, 2, 1, 2, 2,\n",
      "        2, 2, 2, 2, 1, 2, 2, 0])\n",
      "shape: 1000         bs: (128, 1, 1024)\n",
      "612 ms ± 6.72 ms per loop (mean ± std. dev. of 7 runs, 1 loop each)\n"
     ]
    }
   ],
   "source": [
    "train_ds = TSAnnotatedDataset(np.array(X_train), np.array(y_train).astype(int) - 1, anns=ann_train,\n",
    "                              types=(TSAnnotatedTensor, TensorCategory))\n",
    "train_dl = DataLoader(train_ds, bs=128, num_workers=0)\n",
    "valid_ds = TSAnnotatedDataset(np.array(X_valid), np.array(y_valid).astype(int) - 1, anns=ann_valid,\n",
    "                              types=(TSAnnotatedTensor, TensorCategory))\n",
    "valid_dl = DataLoader(valid_ds, bs=128, num_workers=0)\n",
    "dls      = DataLoaders(train_dl, valid_dl, device=default_device())\n",
    "xb,yb = next(iter(dls.valid))\n",
    "print(xb, yb)\n",
    "print(f'shape: {str(len(train_ds)):10}   bs: {xb.shape}')\n",
    "%timeit cycle_dl(dls.valid)"
   ]
  },
  {
   "cell_type": "code",
   "execution_count": 23,
   "metadata": {},
   "outputs": [
    {
     "name": "stdout",
     "output_type": "stream",
     "text": [
      "idx 0 anns [[823 359 931 207]\n",
      " [415 458 514 782]\n",
      " [948 579  43 207]\n",
      " ...\n",
      " [579 560 533 926]\n",
      " [242 586 133 755]\n",
      " [806 490 226 755]]\n",
      "<class '__main__.TSAnnotatedTensor'> <class 'fastai.torch_core.TensorCategory'>\n"
     ]
    },
    {
     "data": {
      "text/plain": [
       "(TSAnnTensor(vars:1, len:1024, ann:4), TensorCategory(2), (4,))"
      ]
     },
     "execution_count": 23,
     "metadata": {},
     "output_type": "execute_result"
    }
   ],
   "source": [
    "xb,yb = next(iter(train_ds))\n",
    "print(type(xb), type(yb))\n",
    "xb,yb, xb.ann.shape"
   ]
  },
  {
   "cell_type": "code",
   "execution_count": 24,
   "metadata": {},
   "outputs": [
    {
     "data": {
      "text/plain": [
       "<AxesSubplot:>"
      ]
     },
     "execution_count": 24,
     "metadata": {},
     "output_type": "execute_result"
    },
    {
     "data": {
      "image/png": "[encoded data removed]",
      "text/plain": [
       "<Figure size 432x288 with 1 Axes>"
      ]
     },
     "metadata": {
      "needs_background": "light"
     },
     "output_type": "display_data"
    }
   ],
   "source": [
    "xb.show()"
   ]
  },
  {
   "cell_type": "code",
   "execution_count": null,
   "metadata": {},
   "outputs": [],
   "source": []
  },
  {
   "cell_type": "code",
   "execution_count": 25,
   "metadata": {},
   "outputs": [
    {
     "name": "stdout",
     "output_type": "stream",
     "text": [
      "<class '__main__.TSAnnotatedTensor'> <class 'fastai.torch_core.TensorCategory'>\n"
     ]
    },
    {
     "data": {
      "text/plain": [
       "(TSAnnTensor(samples:128, vars:1, len:1024, ann:4),\n",
       " TensorCategory([1, 2, 2, 0, 1, 2, 2, 2, 1, 2, 2, 2, 2, 2, 2, 0, 2, 2, 2, 0, 0, 2, 2, 2,\n",
       "         1, 0, 2, 0, 2, 1, 2, 2, 1, 2, 1, 1, 1, 1, 1, 2, 2, 0, 2, 2, 1, 0, 0, 2,\n",
       "         2, 2, 2, 1, 0, 0, 2, 2, 2, 2, 2, 2, 0, 0, 1, 2, 2, 1, 2, 2, 2, 0, 0, 2,\n",
       "         1, 1, 1, 2, 2, 1, 1, 1, 1, 2, 2, 2, 2, 2, 1, 1, 2, 1, 2, 2, 0, 2, 0, 2,\n",
       "         2, 2, 2, 2, 2, 2, 1, 1, 1, 2, 2, 2, 1, 0, 2, 2, 0, 2, 2, 1, 2, 1, 2, 2,\n",
       "         2, 2, 2, 2, 1, 2, 2, 0]))"
      ]
     },
     "execution_count": 25,
     "metadata": {},
     "output_type": "execute_result"
    }
   ],
   "source": [
    "xb,yb = next(iter(dls.valid))\n",
    "print(type(xb), type(yb))\n",
    "xb,yb"
   ]
  },
  {
   "cell_type": "code",
   "execution_count": 26,
   "metadata": {},
   "outputs": [
    {
     "data": {
      "text/plain": [
       "<AxesSubplot:>"
      ]
     },
     "execution_count": 26,
     "metadata": {},
     "output_type": "execute_result"
    },
    {
     "data": {
      "image/png": "[encoded data removed]",
      "text/plain": [
       "<Figure size 432x288 with 1 Axes>"
      ]
     },
     "metadata": {
      "needs_background": "light"
     },
     "output_type": "display_data"
    }
   ],
   "source": [
    "xb.show()"
   ]
  },
  {
   "cell_type": "code",
   "execution_count": 27,
   "metadata": {},
   "outputs": [
    {
     "data": {
      "text/plain": [
       "array([218,  94, 108, 945])"
      ]
     },
     "execution_count": 27,
     "metadata": {},
     "output_type": "execute_result"
    }
   ],
   "source": [
    "xb.ann"
   ]
  },
  {
   "cell_type": "markdown",
   "metadata": {},
   "source": [
    "## Random Window"
   ]
  },
  {
   "cell_type": "code",
   "execution_count": 28,
   "metadata": {},
   "outputs": [],
   "source": [
    "def random_select_from_nparray(ann_arr):\n",
    "    shape = ann_arr.shape\n",
    "    n, m = ann_arr.shape[0], ann_arr.shape[-1]\n",
    "    if len(shape) == 1:\n",
    "        idx = np.random.randint(m)\n",
    "        return ann_arr[idx]\n",
    "    else:\n",
    "        idx = np.random.randint(m, size=n)\n",
    "        return ann_arr[np.arange(n), idx]\n",
    "\n",
    "def random_select_from_list(ann_arr):\n",
    "    if isinstance(ann_arr[0], list):\n",
    "        #print('', [len(x) for x in ann_arr])\n",
    "        return [x[np.random.randint(len(x))] for x in ann_arr]\n",
    "    else:\n",
    "        return ann_arr[np.random.randint(len(ann_arr))]"
   ]
  },
  {
   "cell_type": "markdown",
   "metadata": {},
   "source": [
    "#### Test Numpy Selection"
   ]
  },
  {
   "cell_type": "code",
   "execution_count": 29,
   "metadata": {},
   "outputs": [
    {
     "name": "stdout",
     "output_type": "stream",
     "text": [
      "[0 1 2 3 4 5 6 7 8 9]\n",
      "8\n",
      "2\n",
      "7\n",
      "9\n"
     ]
    }
   ],
   "source": [
    "ll = np.arange(10)\n",
    "print(ll)\n",
    "print(random_select_from_nparray(ll))\n",
    "print(random_select_from_nparray(ll))\n",
    "print(random_select_from_nparray(ll))\n",
    "print(random_select_from_nparray(ll))"
   ]
  },
  {
   "cell_type": "code",
   "execution_count": 30,
   "metadata": {},
   "outputs": [
    {
     "name": "stdout",
     "output_type": "stream",
     "text": [
      "[[ 0  1  2  3  4  5  6  7  8]\n",
      " [ 9 10 11 12 13 14 15 16 17]\n",
      " [18 19 20 21 22 23 24 25 26]]\n",
      "[ 8 10 22]\n",
      "[ 3 14 21]\n",
      "[ 1 13 22]\n",
      "[ 7 13 26]\n"
     ]
    }
   ],
   "source": [
    "ll = np.arange(27).reshape((3, 9))\n",
    "print(ll)\n",
    "print(random_select_from_nparray(ll))\n",
    "print(random_select_from_nparray(ll))\n",
    "print(random_select_from_nparray(ll))\n",
    "print(random_select_from_nparray(ll))"
   ]
  },
  {
   "cell_type": "markdown",
   "metadata": {},
   "source": [
    "#### Test List Selection"
   ]
  },
  {
   "cell_type": "code",
   "execution_count": 31,
   "metadata": {},
   "outputs": [
    {
     "name": "stdout",
     "output_type": "stream",
     "text": [
      "[0, 1, 2, 3, 4, 5, 6, 7, 8, 9]\n",
      "0\n",
      "0\n",
      "2\n",
      "2\n",
      "0\n"
     ]
    }
   ],
   "source": [
    "ll = list(range(10))\n",
    "print(ll)\n",
    "print(random_select_from_list(ll))\n",
    "print(random_select_from_list(ll))\n",
    "print(random_select_from_list(ll))\n",
    "print(random_select_from_list(ll))\n",
    "print(random_select_from_list(ll))"
   ]
  },
  {
   "cell_type": "code",
   "execution_count": 32,
   "metadata": {},
   "outputs": [
    {
     "name": "stdout",
     "output_type": "stream",
     "text": [
      "[[0], [0, 1], [0, 1, 2], [0, 1, 2, 3], [0, 1, 2, 3, 4], [0, 1, 2, 3, 4, 5], [0, 1, 2, 3, 4, 5, 6]]\n",
      "[0, 0, 0, 0, 4, 3, 4]\n",
      "[0, 1, 2, 3, 1, 1, 0]\n",
      "[0, 0, 1, 1, 0, 1, 1]\n",
      "[0, 0, 1, 0, 3, 5, 2]\n",
      "[0, 1, 2, 3, 3, 3, 3]\n"
     ]
    }
   ],
   "source": [
    "ll = [list(range(n)) for n in range(1, 8)]\n",
    "print(ll)\n",
    "print(random_select_from_list(ll))\n",
    "print(random_select_from_list(ll))\n",
    "print(random_select_from_list(ll))\n",
    "print(random_select_from_list(ll))\n",
    "print(random_select_from_list(ll))"
   ]
  },
  {
   "cell_type": "code",
   "execution_count": 33,
   "metadata": {},
   "outputs": [
    {
     "name": "stdout",
     "output_type": "stream",
     "text": [
      "[2, 10, 3, 6, 7, 11, 5, 1]\n",
      "[7, 7, 0, 6, 1, 9, 1, 1]\n",
      "[7, 2, 7, 11, 6, 2, 6, 14]\n",
      "[8, 4, 4, 10, 12, 2, 9, 5]\n",
      "[9, 7, 3, 0, 1, 9, 9, 15]\n"
     ]
    }
   ],
   "source": [
    "ll = [list(range(n)) for n in range(10, 18)]\n",
    "print(random_select_from_list(ll))\n",
    "print(random_select_from_list(ll))\n",
    "print(random_select_from_list(ll))\n",
    "print(random_select_from_list(ll))\n",
    "print(random_select_from_list(ll))"
   ]
  },
  {
   "cell_type": "code",
   "execution_count": null,
   "metadata": {},
   "outputs": [],
   "source": []
  },
  {
   "cell_type": "markdown",
   "metadata": {},
   "source": [
    "### Transforms - Design notes\n",
    "\n",
    "- Bulk Operation\n",
    "  - modes:\n",
    "    - return all events\n",
    "    - result specified numer of events elected raandomly\n",
    "  - prior to selection, filter events that would where window crosses signal boundary\n",
    "  \n",
    "- Transformer\n",
    "  - Uses TSAnnotatedTensor\n",
    "  - Operates on singleton or batch\n",
    "  - Filter events where window crosses boundary\n",
    "  - Randomly select event\n",
    "  - if no event, randomly select window\n",
    "  \n",
    "see also: https://pytorch.org/docs/stable/generated/torch.stack.html"
   ]
  },
  {
   "cell_type": "code",
   "execution_count": 34,
   "metadata": {},
   "outputs": [
    {
     "ename": "SyntaxError",
     "evalue": "invalid syntax (<ipython-input-34-1f2490c60e06>, line 1)",
     "output_type": "error",
     "traceback": [
      "\u001b[0;36m  File \u001b[0;32m\"<ipython-input-34-1f2490c60e06>\"\u001b[0;36m, line \u001b[0;32m1\u001b[0m\n\u001b[0;31m    torch.stack(tensors, dim=0, *, out=None)\u001b[0m\n\u001b[0m                                 ^\u001b[0m\n\u001b[0;31mSyntaxError\u001b[0m\u001b[0;31m:\u001b[0m invalid syntax\n"
     ]
    }
   ],
   "source": [
    "torch.stack(tensors, dim=0, *, out=None) "
   ]
  },
  {
   "cell_type": "code",
   "execution_count": null,
   "metadata": {},
   "outputs": [],
   "source": [
    "a = torch.stack([torch.tensor(np.arange(10)+i) for i in [0, 5, 10]])\n",
    "a, a.size()"
   ]
  },
  {
   "cell_type": "code",
   "execution_count": null,
   "metadata": {},
   "outputs": [],
   "source": [
    "f = Transform(lambda o:o//2, order=5)"
   ]
  },
  {
   "cell_type": "code",
   "execution_count": null,
   "metadata": {},
   "outputs": [],
   "source": [
    "f(6), f.order"
   ]
  },
  {
   "cell_type": "code",
   "execution_count": null,
   "metadata": {},
   "outputs": [],
   "source": [
    "@Transform\n",
    "def zz(o):\n",
    "    return o//2\n",
    "zz.order=6\n",
    "\n",
    "zz(6), zz.order"
   ]
  },
  {
   "cell_type": "code",
   "execution_count": null,
   "metadata": {},
   "outputs": [],
   "source": [
    "class ZZZ(Transform):\n",
    "    order=6\n",
    "    def encodes(self, x): \n",
    "        return x/2\n",
    "ZZZ()(6), ZZZ().order"
   ]
  },
  {
   "cell_type": "code",
   "execution_count": null,
   "metadata": {},
   "outputs": [],
   "source": []
  },
  {
   "cell_type": "code",
   "execution_count": null,
   "metadata": {},
   "outputs": [],
   "source": []
  },
  {
   "cell_type": "code",
   "execution_count": null,
   "metadata": {},
   "outputs": [],
   "source": [
    "assert False"
   ]
  },
  {
   "cell_type": "code",
   "execution_count": null,
   "metadata": {},
   "outputs": [],
   "source": []
  },
  {
   "cell_type": "code",
   "execution_count": null,
   "metadata": {},
   "outputs": [],
   "source": [
    "get_dummy_positions(X_train).shape"
   ]
  },
  {
   "cell_type": "code",
   "execution_count": null,
   "metadata": {},
   "outputs": [],
   "source": [
    "class TSAnnotatedDatasets(TSDatasets):\n",
    "    \"A dataset that creates tuples from X (and y) and applies `item_tfms`\"\n",
    "    _xtype, _ytype = TSTensor, None # Expected X and y output types (torch.Tensor - default - or subclass)\n",
    "    def __init__(self, X=None, y=None, items=None, sel_vars=None, sel_steps=None, tfms=None, tls=None, n_inp=None, dl_type=None,\n",
    "                 inplace=True, **kwargs):\n",
    "        if X is not None and not isinstance(X, (np.ndarray, torch.Tensor)): X = np.asarray(X)\n",
    "        if y is not None and not isinstance(y, (np.ndarray, torch.Tensor)): y = np.asarray(y)\n",
    "        self.inplace = inplace\n",
    "        if tls is None:\n",
    "            X = itemify(to3darray(X), tup_id=0)\n",
    "            y = itemify(y, tup_id=0) if y is not None else y\n",
    "            items = tuple((X,)) if y is None else tuple((X,y))\n",
    "            self.tfms = L(ifnone(tfms,[None]*len(ifnone(tls,items))))\n",
    "        self.sel_vars = ifnone(sel_vars, slice(None))\n",
    "        self.sel_steps = ifnone(sel_steps,slice(None))\n",
    "        self.tls = L(tls if tls else [TfmdLists(item, t, **kwargs) for item,t in zip(items,self.tfms)])\n",
    "        self.n_inp = (1 if len(self.tls)==1 \n",
    "                      else len(self.tls)-1) if n_inp is None else n_inp\n",
    "        if 'split' in kwargs: \n",
    "            self.split_idxs = kwargs['split']\n",
    "        elif 'splits' in kwargs:  \n",
    "            self.split_idxs = kwargs['splits']\n",
    "        else: \n",
    "            self.split_idxs = L(np.arange(len(self.tls[0]) if len(self.tls[0]) > 0 else len(self.tls)).tolist())\n",
    "        if len(self.tls[0]) > 0:\n",
    "            self.types = L([ifnone(_typ, type(tl[0]) if isinstance(tl[0], torch.Tensor) else tensor) \n",
    "                            for tl,_typ in zip(self.tls, [self._xtype, self._ytype])])\n",
    "            self.ptls = L([tl if not self.inplace \n",
    "                           else tl[:] if type(tl[0]).__name__ == 'memmap' \n",
    "                           else tensor(stack(tl[:])) for tl in self.tls])\n",
    "\n",
    "    def __getitem__(self, it):\n",
    "        return tuple([typ(ptl[it])[...,self.sel_vars, self.sel_steps] if i==0 else typ(ptl[it]) \n",
    "                      for i,(ptl,typ) in enumerate(zip(self.ptls,self.types))])"
   ]
  },
  {
   "cell_type": "code",
   "execution_count": null,
   "metadata": {},
   "outputs": [],
   "source": [
    "help(typ)"
   ]
  },
  {
   "cell_type": "code",
   "execution_count": null,
   "metadata": {},
   "outputs": [],
   "source": []
  },
  {
   "cell_type": "code",
   "execution_count": null,
   "metadata": {},
   "outputs": [],
   "source": []
  },
  {
   "cell_type": "code",
   "execution_count": null,
   "metadata": {},
   "outputs": [],
   "source": []
  },
  {
   "cell_type": "code",
   "execution_count": null,
   "metadata": {},
   "outputs": [],
   "source": [
    "class TSDataset():\n",
    "    def __init__(self, X, y=None, types=None, sel_vars=None, sel_steps=None):\n",
    "        self.X, self.y, self.types = to3darray(X), y, types\n",
    "        self.sel_vars = ifnone(sel_vars, slice(None))\n",
    "        self.sel_steps = ifnone(sel_steps,slice(None))\n",
    "    def __getitem__(self, idx):\n",
    "        if self.types is None: return (self.X[idx, self.sel_vars, self.sel_steps], self.y[idx]) if self.y is not None else (self.X[idx])\n",
    "        else:\n",
    "            return (self.types[0](self.X[idx, self.sel_vars, self.sel_steps]), self.types[1](self.y[idx])) if self.y is not None \\\n",
    "            else (self.types[0](self.X[idx]))\n",
    "    def __len__(self): return len(self.X)\n",
    "    @property\n",
    "    def c(self): return 0 if self.y is None else 1 if isinstance(self.y[0], float) else len(np.unique(self.y))\n",
    "    @property\n",
    "    def vars(self):\n",
    "        s = self[0][0] if isinstance(self[0], tuple) else self[0]\n",
    "        if s.ndim >= 4: return s.shape[-3]\n",
    "        return s.shape[-2]\n",
    "    @property\n",
    "    def len(self):\n",
    "        s = self[0][0] if isinstance(self[0], tuple) else self[0]\n",
    "        return s.shape[-1]"
   ]
  },
  {
   "cell_type": "code",
   "execution_count": null,
   "metadata": {},
   "outputs": [],
   "source": []
  },
  {
   "cell_type": "code",
   "execution_count": null,
   "metadata": {},
   "outputs": [],
   "source": []
  },
  {
   "cell_type": "code",
   "execution_count": null,
   "metadata": {},
   "outputs": [],
   "source": []
  }
 ],
 "metadata": {
  "kernelspec": {
   "display_name": "Python [conda env:tsai2]",
   "language": "python",
   "name": "conda-env-tsai2-py"
  },
  "language_info": {
   "codemirror_mode": {
    "name": "ipython",
    "version": 3
   },
   "file_extension": ".py",
   "mimetype": "text/x-python",
   "name": "python",
   "nbconvert_exporter": "python",
   "pygments_lexer": "ipython3",
   "version": "3.8.5"
  }
 },
 "nbformat": 4,
 "nbformat_minor": 2
}
